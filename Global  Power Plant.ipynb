{
 "cells": [
  {
   "cell_type": "code",
   "execution_count": 1,
   "id": "f280ef17",
   "metadata": {},
   "outputs": [],
   "source": [
    "import numpy as np  #importing numpy\n",
    "import matplotlib.pyplot as plt\n",
    "import pandas as pd       #importing pandas \n",
    "import seaborn as sns    # importing seaborn lib\n",
    "from sklearn.model_selection import train_test_split\n",
    "import warnings\n",
    "import requests\n",
    "warnings.filterwarnings(\"ignore\")"
   ]
  },
  {
   "cell_type": "code",
   "execution_count": 2,
   "id": "4fa21461",
   "metadata": {},
   "outputs": [],
   "source": [
    "# importing and reading the csv raw data\n",
    "data =pd.read_csv(\"https://raw.githubusercontent.com/wri/global-power-plant-database/master/source_databases_csv/database_IND.csv\")"
   ]
  },
  {
   "cell_type": "code",
   "execution_count": 5,
   "id": "e4ca9cff",
   "metadata": {},
   "outputs": [],
   "source": [
    "pd.set_option('display.max_columns', None)"
   ]
  },
  {
   "cell_type": "code",
   "execution_count": 6,
   "id": "05e55496",
   "metadata": {},
   "outputs": [
    {
     "data": {
      "text/html": [
       "<div>\n",
       "<style scoped>\n",
       "    .dataframe tbody tr th:only-of-type {\n",
       "        vertical-align: middle;\n",
       "    }\n",
       "\n",
       "    .dataframe tbody tr th {\n",
       "        vertical-align: top;\n",
       "    }\n",
       "\n",
       "    .dataframe thead th {\n",
       "        text-align: right;\n",
       "    }\n",
       "</style>\n",
       "<table border=\"1\" class=\"dataframe\">\n",
       "  <thead>\n",
       "    <tr style=\"text-align: right;\">\n",
       "      <th></th>\n",
       "      <th>country</th>\n",
       "      <th>country_long</th>\n",
       "      <th>name</th>\n",
       "      <th>gppd_idnr</th>\n",
       "      <th>capacity_mw</th>\n",
       "      <th>latitude</th>\n",
       "      <th>longitude</th>\n",
       "      <th>primary_fuel</th>\n",
       "      <th>other_fuel1</th>\n",
       "      <th>other_fuel2</th>\n",
       "      <th>other_fuel3</th>\n",
       "      <th>commissioning_year</th>\n",
       "      <th>owner</th>\n",
       "      <th>source</th>\n",
       "      <th>url</th>\n",
       "      <th>geolocation_source</th>\n",
       "      <th>wepp_id</th>\n",
       "      <th>year_of_capacity_data</th>\n",
       "      <th>generation_gwh_2013</th>\n",
       "      <th>generation_gwh_2014</th>\n",
       "      <th>generation_gwh_2015</th>\n",
       "      <th>generation_gwh_2016</th>\n",
       "      <th>generation_gwh_2017</th>\n",
       "      <th>generation_gwh_2018</th>\n",
       "      <th>generation_gwh_2019</th>\n",
       "      <th>generation_data_source</th>\n",
       "      <th>estimated_generation_gwh</th>\n",
       "    </tr>\n",
       "  </thead>\n",
       "  <tbody>\n",
       "    <tr>\n",
       "      <th>0</th>\n",
       "      <td>IND</td>\n",
       "      <td>India</td>\n",
       "      <td>ACME Solar Tower</td>\n",
       "      <td>WRI1020239</td>\n",
       "      <td>2.5</td>\n",
       "      <td>28.1839</td>\n",
       "      <td>73.2407</td>\n",
       "      <td>Solar</td>\n",
       "      <td>NaN</td>\n",
       "      <td>NaN</td>\n",
       "      <td>NaN</td>\n",
       "      <td>2011.0</td>\n",
       "      <td>Solar Paces</td>\n",
       "      <td>National Renewable Energy Laboratory</td>\n",
       "      <td>http://www.nrel.gov/csp/solarpaces/project_det...</td>\n",
       "      <td>National Renewable Energy Laboratory</td>\n",
       "      <td>NaN</td>\n",
       "      <td>NaN</td>\n",
       "      <td>NaN</td>\n",
       "      <td>NaN</td>\n",
       "      <td>NaN</td>\n",
       "      <td>NaN</td>\n",
       "      <td>NaN</td>\n",
       "      <td>NaN</td>\n",
       "      <td>NaN</td>\n",
       "      <td>NaN</td>\n",
       "      <td>NaN</td>\n",
       "    </tr>\n",
       "    <tr>\n",
       "      <th>1</th>\n",
       "      <td>IND</td>\n",
       "      <td>India</td>\n",
       "      <td>ADITYA CEMENT WORKS</td>\n",
       "      <td>WRI1019881</td>\n",
       "      <td>98.0</td>\n",
       "      <td>24.7663</td>\n",
       "      <td>74.6090</td>\n",
       "      <td>Coal</td>\n",
       "      <td>NaN</td>\n",
       "      <td>NaN</td>\n",
       "      <td>NaN</td>\n",
       "      <td>NaN</td>\n",
       "      <td>Ultratech Cement ltd</td>\n",
       "      <td>Ultratech Cement ltd</td>\n",
       "      <td>http://www.ultratechcement.com/</td>\n",
       "      <td>WRI</td>\n",
       "      <td>NaN</td>\n",
       "      <td>NaN</td>\n",
       "      <td>NaN</td>\n",
       "      <td>NaN</td>\n",
       "      <td>NaN</td>\n",
       "      <td>NaN</td>\n",
       "      <td>NaN</td>\n",
       "      <td>NaN</td>\n",
       "      <td>NaN</td>\n",
       "      <td>NaN</td>\n",
       "      <td>NaN</td>\n",
       "    </tr>\n",
       "    <tr>\n",
       "      <th>2</th>\n",
       "      <td>IND</td>\n",
       "      <td>India</td>\n",
       "      <td>AES Saurashtra Windfarms</td>\n",
       "      <td>WRI1026669</td>\n",
       "      <td>39.2</td>\n",
       "      <td>21.9038</td>\n",
       "      <td>69.3732</td>\n",
       "      <td>Wind</td>\n",
       "      <td>NaN</td>\n",
       "      <td>NaN</td>\n",
       "      <td>NaN</td>\n",
       "      <td>NaN</td>\n",
       "      <td>AES</td>\n",
       "      <td>CDM</td>\n",
       "      <td>https://cdm.unfccc.int/Projects/DB/DNV-CUK1328...</td>\n",
       "      <td>WRI</td>\n",
       "      <td>NaN</td>\n",
       "      <td>NaN</td>\n",
       "      <td>NaN</td>\n",
       "      <td>NaN</td>\n",
       "      <td>NaN</td>\n",
       "      <td>NaN</td>\n",
       "      <td>NaN</td>\n",
       "      <td>NaN</td>\n",
       "      <td>NaN</td>\n",
       "      <td>NaN</td>\n",
       "      <td>NaN</td>\n",
       "    </tr>\n",
       "    <tr>\n",
       "      <th>3</th>\n",
       "      <td>IND</td>\n",
       "      <td>India</td>\n",
       "      <td>AGARTALA GT</td>\n",
       "      <td>IND0000001</td>\n",
       "      <td>135.0</td>\n",
       "      <td>23.8712</td>\n",
       "      <td>91.3602</td>\n",
       "      <td>Gas</td>\n",
       "      <td>NaN</td>\n",
       "      <td>NaN</td>\n",
       "      <td>NaN</td>\n",
       "      <td>2004.0</td>\n",
       "      <td>NaN</td>\n",
       "      <td>Central Electricity Authority</td>\n",
       "      <td>http://www.cea.nic.in/</td>\n",
       "      <td>WRI</td>\n",
       "      <td>NaN</td>\n",
       "      <td>2019.0</td>\n",
       "      <td>NaN</td>\n",
       "      <td>617.789264</td>\n",
       "      <td>843.747</td>\n",
       "      <td>886.004428</td>\n",
       "      <td>663.774500</td>\n",
       "      <td>626.239128</td>\n",
       "      <td>NaN</td>\n",
       "      <td>Central Electricity Authority</td>\n",
       "      <td>NaN</td>\n",
       "    </tr>\n",
       "    <tr>\n",
       "      <th>4</th>\n",
       "      <td>IND</td>\n",
       "      <td>India</td>\n",
       "      <td>AKALTARA TPP</td>\n",
       "      <td>IND0000002</td>\n",
       "      <td>1800.0</td>\n",
       "      <td>21.9603</td>\n",
       "      <td>82.4091</td>\n",
       "      <td>Coal</td>\n",
       "      <td>Oil</td>\n",
       "      <td>NaN</td>\n",
       "      <td>NaN</td>\n",
       "      <td>2015.0</td>\n",
       "      <td>NaN</td>\n",
       "      <td>Central Electricity Authority</td>\n",
       "      <td>http://www.cea.nic.in/</td>\n",
       "      <td>WRI</td>\n",
       "      <td>NaN</td>\n",
       "      <td>2019.0</td>\n",
       "      <td>NaN</td>\n",
       "      <td>3035.550000</td>\n",
       "      <td>5916.370</td>\n",
       "      <td>6243.000000</td>\n",
       "      <td>5385.579736</td>\n",
       "      <td>7279.000000</td>\n",
       "      <td>NaN</td>\n",
       "      <td>Central Electricity Authority</td>\n",
       "      <td>NaN</td>\n",
       "    </tr>\n",
       "  </tbody>\n",
       "</table>\n",
       "</div>"
      ],
      "text/plain": [
       "  country country_long                      name   gppd_idnr  capacity_mw  \\\n",
       "0     IND        India          ACME Solar Tower  WRI1020239          2.5   \n",
       "1     IND        India       ADITYA CEMENT WORKS  WRI1019881         98.0   \n",
       "2     IND        India  AES Saurashtra Windfarms  WRI1026669         39.2   \n",
       "3     IND        India               AGARTALA GT  IND0000001        135.0   \n",
       "4     IND        India              AKALTARA TPP  IND0000002       1800.0   \n",
       "\n",
       "   latitude  longitude primary_fuel other_fuel1 other_fuel2  other_fuel3  \\\n",
       "0   28.1839    73.2407        Solar         NaN         NaN          NaN   \n",
       "1   24.7663    74.6090         Coal         NaN         NaN          NaN   \n",
       "2   21.9038    69.3732         Wind         NaN         NaN          NaN   \n",
       "3   23.8712    91.3602          Gas         NaN         NaN          NaN   \n",
       "4   21.9603    82.4091         Coal         Oil         NaN          NaN   \n",
       "\n",
       "   commissioning_year                 owner  \\\n",
       "0              2011.0           Solar Paces   \n",
       "1                 NaN  Ultratech Cement ltd   \n",
       "2                 NaN                   AES   \n",
       "3              2004.0                   NaN   \n",
       "4              2015.0                   NaN   \n",
       "\n",
       "                                 source  \\\n",
       "0  National Renewable Energy Laboratory   \n",
       "1                  Ultratech Cement ltd   \n",
       "2                                   CDM   \n",
       "3         Central Electricity Authority   \n",
       "4         Central Electricity Authority   \n",
       "\n",
       "                                                 url  \\\n",
       "0  http://www.nrel.gov/csp/solarpaces/project_det...   \n",
       "1                    http://www.ultratechcement.com/   \n",
       "2  https://cdm.unfccc.int/Projects/DB/DNV-CUK1328...   \n",
       "3                             http://www.cea.nic.in/   \n",
       "4                             http://www.cea.nic.in/   \n",
       "\n",
       "                     geolocation_source  wepp_id  year_of_capacity_data  \\\n",
       "0  National Renewable Energy Laboratory      NaN                    NaN   \n",
       "1                                   WRI      NaN                    NaN   \n",
       "2                                   WRI      NaN                    NaN   \n",
       "3                                   WRI      NaN                 2019.0   \n",
       "4                                   WRI      NaN                 2019.0   \n",
       "\n",
       "   generation_gwh_2013  generation_gwh_2014  generation_gwh_2015  \\\n",
       "0                  NaN                  NaN                  NaN   \n",
       "1                  NaN                  NaN                  NaN   \n",
       "2                  NaN                  NaN                  NaN   \n",
       "3                  NaN           617.789264              843.747   \n",
       "4                  NaN          3035.550000             5916.370   \n",
       "\n",
       "   generation_gwh_2016  generation_gwh_2017  generation_gwh_2018  \\\n",
       "0                  NaN                  NaN                  NaN   \n",
       "1                  NaN                  NaN                  NaN   \n",
       "2                  NaN                  NaN                  NaN   \n",
       "3           886.004428           663.774500           626.239128   \n",
       "4          6243.000000          5385.579736          7279.000000   \n",
       "\n",
       "   generation_gwh_2019         generation_data_source  \\\n",
       "0                  NaN                            NaN   \n",
       "1                  NaN                            NaN   \n",
       "2                  NaN                            NaN   \n",
       "3                  NaN  Central Electricity Authority   \n",
       "4                  NaN  Central Electricity Authority   \n",
       "\n",
       "   estimated_generation_gwh  \n",
       "0                       NaN  \n",
       "1                       NaN  \n",
       "2                       NaN  \n",
       "3                       NaN  \n",
       "4                       NaN  "
      ]
     },
     "execution_count": 6,
     "metadata": {},
     "output_type": "execute_result"
    }
   ],
   "source": [
    "data.head()"
   ]
  },
  {
   "cell_type": "code",
   "execution_count": 7,
   "id": "49fe27de",
   "metadata": {},
   "outputs": [
    {
     "data": {
      "text/plain": [
       "(907, 27)"
      ]
     },
     "execution_count": 7,
     "metadata": {},
     "output_type": "execute_result"
    }
   ],
   "source": [
    "data.shape"
   ]
  },
  {
   "cell_type": "code",
   "execution_count": 8,
   "id": "4daddc2d",
   "metadata": {},
   "outputs": [
    {
     "data": {
      "text/plain": [
       "Index(['country', 'country_long', 'name', 'gppd_idnr', 'capacity_mw',\n",
       "       'latitude', 'longitude', 'primary_fuel', 'other_fuel1', 'other_fuel2',\n",
       "       'other_fuel3', 'commissioning_year', 'owner', 'source', 'url',\n",
       "       'geolocation_source', 'wepp_id', 'year_of_capacity_data',\n",
       "       'generation_gwh_2013', 'generation_gwh_2014', 'generation_gwh_2015',\n",
       "       'generation_gwh_2016', 'generation_gwh_2017', 'generation_gwh_2018',\n",
       "       'generation_gwh_2019', 'generation_data_source',\n",
       "       'estimated_generation_gwh'],\n",
       "      dtype='object')"
      ]
     },
     "execution_count": 8,
     "metadata": {},
     "output_type": "execute_result"
    }
   ],
   "source": [
    "data.columns"
   ]
  },
  {
   "cell_type": "code",
   "execution_count": 9,
   "id": "81af6617",
   "metadata": {
    "scrolled": true
   },
   "outputs": [
    {
     "name": "stdout",
     "output_type": "stream",
     "text": [
      "<class 'pandas.core.frame.DataFrame'>\n",
      "RangeIndex: 907 entries, 0 to 906\n",
      "Data columns (total 27 columns):\n",
      " #   Column                    Non-Null Count  Dtype  \n",
      "---  ------                    --------------  -----  \n",
      " 0   country                   907 non-null    object \n",
      " 1   country_long              907 non-null    object \n",
      " 2   name                      907 non-null    object \n",
      " 3   gppd_idnr                 907 non-null    object \n",
      " 4   capacity_mw               907 non-null    float64\n",
      " 5   latitude                  861 non-null    float64\n",
      " 6   longitude                 861 non-null    float64\n",
      " 7   primary_fuel              907 non-null    object \n",
      " 8   other_fuel1               198 non-null    object \n",
      " 9   other_fuel2               1 non-null      object \n",
      " 10  other_fuel3               0 non-null      float64\n",
      " 11  commissioning_year        527 non-null    float64\n",
      " 12  owner                     342 non-null    object \n",
      " 13  source                    907 non-null    object \n",
      " 14  url                       907 non-null    object \n",
      " 15  geolocation_source        888 non-null    object \n",
      " 16  wepp_id                   0 non-null      float64\n",
      " 17  year_of_capacity_data     519 non-null    float64\n",
      " 18  generation_gwh_2013       0 non-null      float64\n",
      " 19  generation_gwh_2014       398 non-null    float64\n",
      " 20  generation_gwh_2015       422 non-null    float64\n",
      " 21  generation_gwh_2016       434 non-null    float64\n",
      " 22  generation_gwh_2017       440 non-null    float64\n",
      " 23  generation_gwh_2018       448 non-null    float64\n",
      " 24  generation_gwh_2019       0 non-null      float64\n",
      " 25  generation_data_source    449 non-null    object \n",
      " 26  estimated_generation_gwh  0 non-null      float64\n",
      "dtypes: float64(15), object(12)\n",
      "memory usage: 191.4+ KB\n"
     ]
    }
   ],
   "source": [
    "data.info()"
   ]
  },
  {
   "cell_type": "markdown",
   "id": "582784ae",
   "metadata": {},
   "source": [
    "* There are 12 object and 15 numerical columns in dataset\n"
   ]
  },
  {
   "cell_type": "code",
   "execution_count": 10,
   "id": "8bf2f7bc",
   "metadata": {},
   "outputs": [
    {
     "data": {
      "text/plain": [
       "country                       0\n",
       "country_long                  0\n",
       "name                          0\n",
       "gppd_idnr                     0\n",
       "capacity_mw                   0\n",
       "latitude                     46\n",
       "longitude                    46\n",
       "primary_fuel                  0\n",
       "other_fuel1                 709\n",
       "other_fuel2                 906\n",
       "other_fuel3                 907\n",
       "commissioning_year          380\n",
       "owner                       565\n",
       "source                        0\n",
       "url                           0\n",
       "geolocation_source           19\n",
       "wepp_id                     907\n",
       "year_of_capacity_data       388\n",
       "generation_gwh_2013         907\n",
       "generation_gwh_2014         509\n",
       "generation_gwh_2015         485\n",
       "generation_gwh_2016         473\n",
       "generation_gwh_2017         467\n",
       "generation_gwh_2018         459\n",
       "generation_gwh_2019         907\n",
       "generation_data_source      458\n",
       "estimated_generation_gwh    907\n",
       "dtype: int64"
      ]
     },
     "execution_count": 10,
     "metadata": {},
     "output_type": "execute_result"
    }
   ],
   "source": [
    "data.isnull().sum()"
   ]
  },
  {
   "cell_type": "markdown",
   "id": "b603defb",
   "metadata": {},
   "source": [
    "* Remove columns that have maximum null values"
   ]
  },
  {
   "cell_type": "code",
   "execution_count": 11,
   "id": "2aadbec1",
   "metadata": {},
   "outputs": [],
   "source": [
    "data.drop(['name','generation_data_source', 'owner','estimated_generation_gwh','country','wepp_id','url','country_long','name','gppd_idnr','other_fuel1', 'other_fuel2', 'other_fuel3'],axis = 1, inplace = True)"
   ]
  },
  {
   "cell_type": "code",
   "execution_count": 12,
   "id": "13aa4029",
   "metadata": {
    "scrolled": true
   },
   "outputs": [
    {
     "data": {
      "text/plain": [
       "(907, 15)"
      ]
     },
     "execution_count": 12,
     "metadata": {},
     "output_type": "execute_result"
    }
   ],
   "source": [
    "data.shape"
   ]
  },
  {
   "cell_type": "code",
   "execution_count": 13,
   "id": "a8455219",
   "metadata": {},
   "outputs": [
    {
     "data": {
      "text/html": [
       "<div>\n",
       "<style scoped>\n",
       "    .dataframe tbody tr th:only-of-type {\n",
       "        vertical-align: middle;\n",
       "    }\n",
       "\n",
       "    .dataframe tbody tr th {\n",
       "        vertical-align: top;\n",
       "    }\n",
       "\n",
       "    .dataframe thead th {\n",
       "        text-align: right;\n",
       "    }\n",
       "</style>\n",
       "<table border=\"1\" class=\"dataframe\">\n",
       "  <thead>\n",
       "    <tr style=\"text-align: right;\">\n",
       "      <th></th>\n",
       "      <th>capacity_mw</th>\n",
       "      <th>latitude</th>\n",
       "      <th>longitude</th>\n",
       "      <th>commissioning_year</th>\n",
       "      <th>year_of_capacity_data</th>\n",
       "      <th>generation_gwh_2013</th>\n",
       "      <th>generation_gwh_2014</th>\n",
       "      <th>generation_gwh_2015</th>\n",
       "      <th>generation_gwh_2016</th>\n",
       "      <th>generation_gwh_2017</th>\n",
       "      <th>generation_gwh_2018</th>\n",
       "      <th>generation_gwh_2019</th>\n",
       "    </tr>\n",
       "  </thead>\n",
       "  <tbody>\n",
       "    <tr>\n",
       "      <th>count</th>\n",
       "      <td>907.000000</td>\n",
       "      <td>861.000000</td>\n",
       "      <td>861.000000</td>\n",
       "      <td>527.000000</td>\n",
       "      <td>519.0</td>\n",
       "      <td>0.0</td>\n",
       "      <td>398.000000</td>\n",
       "      <td>422.000000</td>\n",
       "      <td>434.000000</td>\n",
       "      <td>440.000000</td>\n",
       "      <td>448.000000</td>\n",
       "      <td>0.0</td>\n",
       "    </tr>\n",
       "    <tr>\n",
       "      <th>mean</th>\n",
       "      <td>326.223755</td>\n",
       "      <td>21.197918</td>\n",
       "      <td>77.464907</td>\n",
       "      <td>1997.091082</td>\n",
       "      <td>2019.0</td>\n",
       "      <td>NaN</td>\n",
       "      <td>2431.823590</td>\n",
       "      <td>2428.226946</td>\n",
       "      <td>2467.936859</td>\n",
       "      <td>2547.759305</td>\n",
       "      <td>2600.804099</td>\n",
       "      <td>NaN</td>\n",
       "    </tr>\n",
       "    <tr>\n",
       "      <th>std</th>\n",
       "      <td>590.085456</td>\n",
       "      <td>6.239612</td>\n",
       "      <td>4.939316</td>\n",
       "      <td>17.082868</td>\n",
       "      <td>0.0</td>\n",
       "      <td>NaN</td>\n",
       "      <td>4026.440035</td>\n",
       "      <td>4194.596959</td>\n",
       "      <td>4162.884308</td>\n",
       "      <td>4196.991169</td>\n",
       "      <td>4314.880456</td>\n",
       "      <td>NaN</td>\n",
       "    </tr>\n",
       "    <tr>\n",
       "      <th>min</th>\n",
       "      <td>0.000000</td>\n",
       "      <td>8.168900</td>\n",
       "      <td>68.644700</td>\n",
       "      <td>1927.000000</td>\n",
       "      <td>2019.0</td>\n",
       "      <td>NaN</td>\n",
       "      <td>0.000000</td>\n",
       "      <td>0.000000</td>\n",
       "      <td>0.000000</td>\n",
       "      <td>0.000000</td>\n",
       "      <td>0.000000</td>\n",
       "      <td>NaN</td>\n",
       "    </tr>\n",
       "    <tr>\n",
       "      <th>25%</th>\n",
       "      <td>16.725000</td>\n",
       "      <td>16.773900</td>\n",
       "      <td>74.256200</td>\n",
       "      <td>1988.000000</td>\n",
       "      <td>2019.0</td>\n",
       "      <td>NaN</td>\n",
       "      <td>223.557672</td>\n",
       "      <td>176.381063</td>\n",
       "      <td>188.285252</td>\n",
       "      <td>177.874930</td>\n",
       "      <td>193.378250</td>\n",
       "      <td>NaN</td>\n",
       "    </tr>\n",
       "    <tr>\n",
       "      <th>50%</th>\n",
       "      <td>59.200000</td>\n",
       "      <td>21.780000</td>\n",
       "      <td>76.719500</td>\n",
       "      <td>2001.000000</td>\n",
       "      <td>2019.0</td>\n",
       "      <td>NaN</td>\n",
       "      <td>801.123775</td>\n",
       "      <td>711.181225</td>\n",
       "      <td>737.205450</td>\n",
       "      <td>817.977250</td>\n",
       "      <td>751.644375</td>\n",
       "      <td>NaN</td>\n",
       "    </tr>\n",
       "    <tr>\n",
       "      <th>75%</th>\n",
       "      <td>385.250000</td>\n",
       "      <td>25.512400</td>\n",
       "      <td>79.440800</td>\n",
       "      <td>2012.000000</td>\n",
       "      <td>2019.0</td>\n",
       "      <td>NaN</td>\n",
       "      <td>3035.306250</td>\n",
       "      <td>3084.121250</td>\n",
       "      <td>3282.861313</td>\n",
       "      <td>3275.690475</td>\n",
       "      <td>3143.535900</td>\n",
       "      <td>NaN</td>\n",
       "    </tr>\n",
       "    <tr>\n",
       "      <th>max</th>\n",
       "      <td>4760.000000</td>\n",
       "      <td>34.649000</td>\n",
       "      <td>95.408000</td>\n",
       "      <td>2018.000000</td>\n",
       "      <td>2019.0</td>\n",
       "      <td>NaN</td>\n",
       "      <td>28127.000000</td>\n",
       "      <td>30539.000000</td>\n",
       "      <td>30015.000000</td>\n",
       "      <td>35116.000000</td>\n",
       "      <td>35136.000000</td>\n",
       "      <td>NaN</td>\n",
       "    </tr>\n",
       "  </tbody>\n",
       "</table>\n",
       "</div>"
      ],
      "text/plain": [
       "       capacity_mw    latitude   longitude  commissioning_year  \\\n",
       "count   907.000000  861.000000  861.000000          527.000000   \n",
       "mean    326.223755   21.197918   77.464907         1997.091082   \n",
       "std     590.085456    6.239612    4.939316           17.082868   \n",
       "min       0.000000    8.168900   68.644700         1927.000000   \n",
       "25%      16.725000   16.773900   74.256200         1988.000000   \n",
       "50%      59.200000   21.780000   76.719500         2001.000000   \n",
       "75%     385.250000   25.512400   79.440800         2012.000000   \n",
       "max    4760.000000   34.649000   95.408000         2018.000000   \n",
       "\n",
       "       year_of_capacity_data  generation_gwh_2013  generation_gwh_2014  \\\n",
       "count                  519.0                  0.0           398.000000   \n",
       "mean                  2019.0                  NaN          2431.823590   \n",
       "std                      0.0                  NaN          4026.440035   \n",
       "min                   2019.0                  NaN             0.000000   \n",
       "25%                   2019.0                  NaN           223.557672   \n",
       "50%                   2019.0                  NaN           801.123775   \n",
       "75%                   2019.0                  NaN          3035.306250   \n",
       "max                   2019.0                  NaN         28127.000000   \n",
       "\n",
       "       generation_gwh_2015  generation_gwh_2016  generation_gwh_2017  \\\n",
       "count           422.000000           434.000000           440.000000   \n",
       "mean           2428.226946          2467.936859          2547.759305   \n",
       "std            4194.596959          4162.884308          4196.991169   \n",
       "min               0.000000             0.000000             0.000000   \n",
       "25%             176.381063           188.285252           177.874930   \n",
       "50%             711.181225           737.205450           817.977250   \n",
       "75%            3084.121250          3282.861313          3275.690475   \n",
       "max           30539.000000         30015.000000         35116.000000   \n",
       "\n",
       "       generation_gwh_2018  generation_gwh_2019  \n",
       "count           448.000000                  0.0  \n",
       "mean           2600.804099                  NaN  \n",
       "std            4314.880456                  NaN  \n",
       "min               0.000000                  NaN  \n",
       "25%             193.378250                  NaN  \n",
       "50%             751.644375                  NaN  \n",
       "75%            3143.535900                  NaN  \n",
       "max           35136.000000                  NaN  "
      ]
     },
     "execution_count": 13,
     "metadata": {},
     "output_type": "execute_result"
    }
   ],
   "source": [
    "data.describe()"
   ]
  },
  {
   "cell_type": "code",
   "execution_count": 14,
   "id": "8247c9a2",
   "metadata": {},
   "outputs": [
    {
     "data": {
      "text/plain": [
       "0        NaN\n",
       "1        NaN\n",
       "2        NaN\n",
       "3     2019.0\n",
       "4     2019.0\n",
       "5     2019.0\n",
       "6     2019.0\n",
       "7     2019.0\n",
       "8     2019.0\n",
       "9     2019.0\n",
       "10    2019.0\n",
       "11    2019.0\n",
       "12    2019.0\n",
       "13    2019.0\n",
       "14    2019.0\n",
       "Name: year_of_capacity_data, dtype: float64"
      ]
     },
     "execution_count": 14,
     "metadata": {},
     "output_type": "execute_result"
    }
   ],
   "source": [
    "data['year_of_capacity_data'].head(15)"
   ]
  },
  {
   "cell_type": "markdown",
   "id": "f769b59b",
   "metadata": {},
   "source": [
    "* The 'year_of_capacity_data' column has one unique column i.e 2019 hence dropping the column"
   ]
  },
  {
   "cell_type": "code",
   "execution_count": 15,
   "id": "4090df5a",
   "metadata": {},
   "outputs": [
    {
     "data": {
      "text/plain": [
       "1"
      ]
     },
     "execution_count": 15,
     "metadata": {},
     "output_type": "execute_result"
    }
   ],
   "source": [
    "data['year_of_capacity_data'].nunique()"
   ]
  },
  {
   "cell_type": "code",
   "execution_count": 16,
   "id": "e04c55fe",
   "metadata": {},
   "outputs": [],
   "source": [
    "data.drop(['year_of_capacity_data'], axis =1 , inplace = True)"
   ]
  },
  {
   "cell_type": "markdown",
   "id": "9b33e1c6",
   "metadata": {},
   "source": [
    "* dropping column 'generation_gwh_2013' as it has only null values"
   ]
  },
  {
   "cell_type": "code",
   "execution_count": 29,
   "id": "5dadd63f",
   "metadata": {},
   "outputs": [],
   "source": [
    "data.drop(['generation_gwh_2013'], axis =1 , inplace = True)"
   ]
  },
  {
   "cell_type": "code",
   "execution_count": 32,
   "id": "2d072992",
   "metadata": {},
   "outputs": [],
   "source": [
    "data.drop(['generation_gwh_2019'], axis =1 , inplace = True)"
   ]
  },
  {
   "cell_type": "code",
   "execution_count": 17,
   "id": "13c1e378",
   "metadata": {},
   "outputs": [
    {
     "data": {
      "text/plain": [
       "array(['National Renewable Energy Laboratory', 'WRI', nan,\n",
       "       'Industry About'], dtype=object)"
      ]
     },
     "execution_count": 17,
     "metadata": {},
     "output_type": "execute_result"
    }
   ],
   "source": [
    "data['geolocation_source'].unique()"
   ]
  },
  {
   "cell_type": "code",
   "execution_count": 18,
   "id": "585cd99f",
   "metadata": {},
   "outputs": [],
   "source": [
    "# filling the column with  mode because category data\n",
    "data['geolocation_source'].fillna(data['geolocation_source'].mode()[0], inplace=True)  "
   ]
  },
  {
   "cell_type": "code",
   "execution_count": 20,
   "id": "9fb9e4d1",
   "metadata": {},
   "outputs": [],
   "source": [
    "data.fillna(data.median()[0], inplace=True)"
   ]
  },
  {
   "cell_type": "code",
   "execution_count": 21,
   "id": "abc60cd7",
   "metadata": {},
   "outputs": [
    {
     "data": {
      "text/plain": [
       "capacity_mw            0\n",
       "latitude               0\n",
       "longitude              0\n",
       "primary_fuel           0\n",
       "commissioning_year     0\n",
       "source                 0\n",
       "geolocation_source     0\n",
       "generation_gwh_2013    0\n",
       "generation_gwh_2014    0\n",
       "generation_gwh_2015    0\n",
       "generation_gwh_2016    0\n",
       "generation_gwh_2017    0\n",
       "generation_gwh_2018    0\n",
       "generation_gwh_2019    0\n",
       "dtype: int64"
      ]
     },
     "execution_count": 21,
     "metadata": {},
     "output_type": "execute_result"
    }
   ],
   "source": [
    "data.isnull().sum()\n"
   ]
  },
  {
   "cell_type": "code",
   "execution_count": 22,
   "id": "617b5d61",
   "metadata": {},
   "outputs": [
    {
     "data": {
      "text/plain": [
       "191"
      ]
     },
     "execution_count": 22,
     "metadata": {},
     "output_type": "execute_result"
    }
   ],
   "source": [
    "data['source'].nunique()"
   ]
  },
  {
   "cell_type": "markdown",
   "id": "d767a311",
   "metadata": {},
   "source": [
    "#### Data Visualization"
   ]
  },
  {
   "cell_type": "code",
   "execution_count": 23,
   "id": "aec25ff8",
   "metadata": {},
   "outputs": [
    {
     "data": {
      "text/plain": [
       "<AxesSubplot:xlabel='primary_fuel', ylabel='count'>"
      ]
     },
     "execution_count": 23,
     "metadata": {},
     "output_type": "execute_result"
    },
    {
     "data": {
      "image/png": "[encoded data removed]",
      "text/plain": [
       "<Figure size 432x288 with 1 Axes>"
      ]
     },
     "metadata": {},
     "output_type": "display_data"
    }
   ],
   "source": [
    "sns.set_style(\"whitegrid\")\n",
    "sns.countplot(x=\"primary_fuel\", data=data)"
   ]
  },
  {
   "cell_type": "markdown",
   "id": "9851a621",
   "metadata": {},
   "source": [
    "##### EDA"
   ]
  },
  {
   "cell_type": "code",
   "execution_count": 33,
   "id": "eb59f41e",
   "metadata": {},
   "outputs": [],
   "source": [
    "datacorr=data.corr()\n"
   ]
  },
  {
   "cell_type": "code",
   "execution_count": 34,
   "id": "1a16001d",
   "metadata": {},
   "outputs": [
    {
     "data": {
      "text/plain": [
       "<AxesSubplot:>"
      ]
     },
     "execution_count": 34,
     "metadata": {},
     "output_type": "execute_result"
    },
    {
     "data": {
      "image/png": "[encoded data removed]",
      "text/plain": [
       "<Figure size 1080x720 with 2 Axes>"
      ]
     },
     "metadata": {},
     "output_type": "display_data"
    }
   ],
   "source": [
    "plt.figure(figsize=(15,10))\n",
    "\n",
    "sns.heatmap(datacorr,annot=True, linewidth=1)"
   ]
  },
  {
   "cell_type": "markdown",
   "id": "f42df481",
   "metadata": {},
   "source": [
    "* We can notice generation_gwh_2014,2015,2016,2017,2018 are positively correlated to capacity_mw and \n",
    "   latitude is negative correlated with capacity_mw\n"
   ]
  },
  {
   "cell_type": "code",
   "execution_count": 38,
   "id": "5ac86c60",
   "metadata": {},
   "outputs": [
    {
     "data": {
      "text/plain": [
       "<AxesSubplot:xlabel='capacity_mw', ylabel='generation_gwh_2014'>"
      ]
     },
     "execution_count": 38,
     "metadata": {},
     "output_type": "execute_result"
    },
    {
     "data": {
      "image/png": "[encoded data removed]",
      "text/plain": [
       "<Figure size 576x288 with 1 Axes>"
      ]
     },
     "metadata": {},
     "output_type": "display_data"
    }
   ],
   "source": [
    "plt.figure(figsize=(8,4))\n",
    "sns.scatterplot(x='capacity_mw',y='generation_gwh_2014',data=data)"
   ]
  },
  {
   "cell_type": "code",
   "execution_count": 39,
   "id": "f3bd758e",
   "metadata": {},
   "outputs": [
    {
     "data": {
      "text/plain": [
       "<AxesSubplot:xlabel='capacity_mw', ylabel='generation_gwh_2015'>"
      ]
     },
     "execution_count": 39,
     "metadata": {},
     "output_type": "execute_result"
    },
    {
     "data": {
      "image/png": "[encoded data removed]",
      "text/plain": [
       "<Figure size 576x288 with 1 Axes>"
      ]
     },
     "metadata": {},
     "output_type": "display_data"
    }
   ],
   "source": [
    "plt.figure(figsize=(8,4))\n",
    "sns.scatterplot(x='capacity_mw',y='generation_gwh_2015',data=data)"
   ]
  },
  {
   "cell_type": "code",
   "execution_count": 40,
   "id": "27de577f",
   "metadata": {},
   "outputs": [
    {
     "data": {
      "text/plain": [
       "<AxesSubplot:xlabel='capacity_mw', ylabel='generation_gwh_2016'>"
      ]
     },
     "execution_count": 40,
     "metadata": {},
     "output_type": "execute_result"
    },
    {
     "data": {
      "image/png": "[encoded data removed]",
      "text/plain": [
       "<Figure size 576x288 with 1 Axes>"
      ]
     },
     "metadata": {},
     "output_type": "display_data"
    }
   ],
   "source": [
    "plt.figure(figsize=(8,4))\n",
    "sns.scatterplot(x='capacity_mw',y='generation_gwh_2016',data=data)"
   ]
  },
  {
   "cell_type": "code",
   "execution_count": 41,
   "id": "17ceed0e",
   "metadata": {},
   "outputs": [
    {
     "data": {
      "text/plain": [
       "<AxesSubplot:xlabel='capacity_mw', ylabel='generation_gwh_2017'>"
      ]
     },
     "execution_count": 41,
     "metadata": {},
     "output_type": "execute_result"
    },
    {
     "data": {
      "image/png": "[encoded data removed]",
      "text/plain": [
       "<Figure size 576x288 with 1 Axes>"
      ]
     },
     "metadata": {},
     "output_type": "display_data"
    }
   ],
   "source": [
    "plt.figure(figsize=(8,4))\n",
    "sns.scatterplot(x='capacity_mw',y='generation_gwh_2017',data=data)"
   ]
  },
  {
   "cell_type": "code",
   "execution_count": 42,
   "id": "b9967e49",
   "metadata": {},
   "outputs": [
    {
     "data": {
      "text/plain": [
       "<AxesSubplot:xlabel='capacity_mw', ylabel='generation_gwh_2018'>"
      ]
     },
     "execution_count": 42,
     "metadata": {},
     "output_type": "execute_result"
    },
    {
     "data": {
      "image/png": "[encoded data removed]",
      "text/plain": [
       "<Figure size 576x288 with 1 Axes>"
      ]
     },
     "metadata": {},
     "output_type": "display_data"
    }
   ],
   "source": [
    "plt.figure(figsize=(8,4))\n",
    "sns.scatterplot(x='capacity_mw',y='generation_gwh_2018',data=data)"
   ]
  },
  {
   "cell_type": "markdown",
   "id": "a4ebc11d",
   "metadata": {},
   "source": [
    "* In all these years we can also notice here as electricity generation in gigawatt-hour increasing also increasing the no of electrical generating capacity in megawatts "
   ]
  },
  {
   "cell_type": "code",
   "execution_count": 43,
   "id": "e16d423c",
   "metadata": {},
   "outputs": [
    {
     "data": {
      "text/plain": [
       "<AxesSubplot:xlabel='capacity_mw', ylabel='latitude'>"
      ]
     },
     "execution_count": 43,
     "metadata": {},
     "output_type": "execute_result"
    },
    {
     "data": {
      "image/png": "[encoded data removed]",
      "text/plain": [
       "<Figure size 576x288 with 1 Axes>"
      ]
     },
     "metadata": {},
     "output_type": "display_data"
    }
   ],
   "source": [
    "plt.figure(figsize=(8,4))\n",
    "sns.scatterplot(x='capacity_mw',y='latitude',data=data)"
   ]
  },
  {
   "cell_type": "code",
   "execution_count": 45,
   "id": "067cc836",
   "metadata": {},
   "outputs": [
    {
     "data": {
      "text/plain": [
       "<AxesSubplot:xlabel='primary_fuel', ylabel='generation_gwh_2014'>"
      ]
     },
     "execution_count": 45,
     "metadata": {},
     "output_type": "execute_result"
    },
    {
     "data": {
      "image/png": "[encoded data removed]",
      "text/plain": [
       "<Figure size 576x288 with 1 Axes>"
      ]
     },
     "metadata": {},
     "output_type": "display_data"
    }
   ],
   "source": [
    "plt.figure(figsize=(8,4))\n",
    "sns.scatterplot(x='primary_fuel',y='generation_gwh_2014',data=data)"
   ]
  },
  {
   "cell_type": "markdown",
   "id": "f92f797f",
   "metadata": {},
   "source": [
    "* We can see coal is most used fuel in year 2014 and Nuclear,Gas and hydro on average use and Solar,Wind Bomass nad oil was very less used\n"
   ]
  },
  {
   "cell_type": "code",
   "execution_count": 46,
   "id": "b89515d2",
   "metadata": {},
   "outputs": [
    {
     "data": {
      "text/plain": [
       "<AxesSubplot:xlabel='primary_fuel', ylabel='generation_gwh_2015'>"
      ]
     },
     "execution_count": 46,
     "metadata": {},
     "output_type": "execute_result"
    },
    {
     "data": {
      "image/png": "[encoded data removed]",
      "text/plain": [
       "<Figure size 576x288 with 1 Axes>"
      ]
     },
     "metadata": {},
     "output_type": "display_data"
    }
   ],
   "source": [
    "plt.figure(figsize=(8,4))\n",
    "sns.scatterplot(x='primary_fuel',y='generation_gwh_2015',data=data)"
   ]
  },
  {
   "cell_type": "code",
   "execution_count": 48,
   "id": "12d004e0",
   "metadata": {},
   "outputs": [
    {
     "data": {
      "text/plain": [
       "<AxesSubplot:xlabel='primary_fuel', ylabel='generation_gwh_2016'>"
      ]
     },
     "execution_count": 48,
     "metadata": {},
     "output_type": "execute_result"
    },
    {
     "data": {
      "image/png": "[encoded data removed]",
      "text/plain": [
       "<Figure size 576x288 with 1 Axes>"
      ]
     },
     "metadata": {},
     "output_type": "display_data"
    }
   ],
   "source": [
    "plt.figure(figsize=(8,4))\n",
    "sns.scatterplot(x='primary_fuel',y='generation_gwh_2016',data=data)"
   ]
  },
  {
   "cell_type": "code",
   "execution_count": 49,
   "id": "e6b166c9",
   "metadata": {},
   "outputs": [
    {
     "data": {
      "text/plain": [
       "<AxesSubplot:xlabel='primary_fuel', ylabel='generation_gwh_2017'>"
      ]
     },
     "execution_count": 49,
     "metadata": {},
     "output_type": "execute_result"
    },
    {
     "data": {
      "image/png": "[encoded data removed]",
      "text/plain": [
       "<Figure size 576x288 with 1 Axes>"
      ]
     },
     "metadata": {},
     "output_type": "display_data"
    }
   ],
   "source": [
    "plt.figure(figsize=(8,4))\n",
    "sns.scatterplot(x='primary_fuel',y='generation_gwh_2017',data=data)"
   ]
  },
  {
   "cell_type": "code",
   "execution_count": 50,
   "id": "4d2f3b65",
   "metadata": {},
   "outputs": [
    {
     "data": {
      "text/plain": [
       "<AxesSubplot:xlabel='primary_fuel', ylabel='generation_gwh_2018'>"
      ]
     },
     "execution_count": 50,
     "metadata": {},
     "output_type": "execute_result"
    },
    {
     "data": {
      "image/png": "[encoded data removed]",
      "text/plain": [
       "<Figure size 576x288 with 1 Axes>"
      ]
     },
     "metadata": {},
     "output_type": "display_data"
    }
   ],
   "source": [
    "plt.figure(figsize=(8,4))\n",
    "sns.scatterplot(x='primary_fuel',y='generation_gwh_2018',data=data)"
   ]
  },
  {
   "cell_type": "markdown",
   "id": "4e4679a1",
   "metadata": {},
   "source": [
    "* In all of the year from 2014 to 2018 the coal is most used fuel  and Nuclear,Gas and hydro on average use and Solar,Wind Biomass and oil was very less used."
   ]
  },
  {
   "cell_type": "code",
   "execution_count": 51,
   "id": "82cf624f",
   "metadata": {},
   "outputs": [
    {
     "data": {
      "text/plain": [
       "<AxesSubplot:xlabel='primary_fuel', ylabel='latitude'>"
      ]
     },
     "execution_count": 51,
     "metadata": {},
     "output_type": "execute_result"
    },
    {
     "data": {
      "image/png": "[encoded data removed]",
      "text/plain": [
       "<Figure size 576x288 with 1 Axes>"
      ]
     },
     "metadata": {},
     "output_type": "display_data"
    }
   ],
   "source": [
    "plt.figure(figsize=(8,4))\n",
    "sns.scatterplot(x='primary_fuel',y='latitude',data=data)"
   ]
  },
  {
   "cell_type": "markdown",
   "id": "fddea04b",
   "metadata": {},
   "source": [
    "* Coal  and Hydro are  max electrical generating capacity in megawatts"
   ]
  },
  {
   "cell_type": "markdown",
   "id": "11fedc21",
   "metadata": {},
   "source": [
    "#### LabelEncoder"
   ]
  },
  {
   "cell_type": "code",
   "execution_count": 52,
   "id": "d24858f3",
   "metadata": {},
   "outputs": [
    {
     "name": "stdout",
     "output_type": "stream",
     "text": [
      "<class 'pandas.core.frame.DataFrame'>\n",
      "RangeIndex: 907 entries, 0 to 906\n",
      "Data columns (total 12 columns):\n",
      " #   Column               Non-Null Count  Dtype  \n",
      "---  ------               --------------  -----  \n",
      " 0   capacity_mw          907 non-null    float64\n",
      " 1   latitude             907 non-null    float64\n",
      " 2   longitude            907 non-null    float64\n",
      " 3   primary_fuel         907 non-null    object \n",
      " 4   commissioning_year   907 non-null    float64\n",
      " 5   source               907 non-null    object \n",
      " 6   geolocation_source   907 non-null    object \n",
      " 7   generation_gwh_2014  907 non-null    float64\n",
      " 8   generation_gwh_2015  907 non-null    float64\n",
      " 9   generation_gwh_2016  907 non-null    float64\n",
      " 10  generation_gwh_2017  907 non-null    float64\n",
      " 11  generation_gwh_2018  907 non-null    float64\n",
      "dtypes: float64(9), object(3)\n",
      "memory usage: 85.2+ KB\n"
     ]
    }
   ],
   "source": [
    "data.info()"
   ]
  },
  {
   "cell_type": "code",
   "execution_count": 53,
   "id": "d14b1153",
   "metadata": {},
   "outputs": [],
   "source": [
    "from sklearn.preprocessing import LabelEncoder\n"
   ]
  },
  {
   "cell_type": "code",
   "execution_count": 54,
   "id": "5704c722",
   "metadata": {},
   "outputs": [
    {
     "data": {
      "text/plain": [
       "array(['Solar', 'Coal', 'Wind', 'Gas', 'Hydro', 'Biomass', 'Oil',\n",
       "       'Nuclear'], dtype=object)"
      ]
     },
     "execution_count": 54,
     "metadata": {},
     "output_type": "execute_result"
    }
   ],
   "source": [
    "data['primary_fuel'].unique()\n"
   ]
  },
  {
   "cell_type": "code",
   "execution_count": 55,
   "id": "8c71e80c",
   "metadata": {},
   "outputs": [
    {
     "data": {
      "text/plain": [
       "array(['National Renewable Energy Laboratory', 'WRI', 'Industry About'],\n",
       "      dtype=object)"
      ]
     },
     "execution_count": 55,
     "metadata": {},
     "output_type": "execute_result"
    }
   ],
   "source": [
    "data['geolocation_source'].unique()"
   ]
  },
  {
   "cell_type": "code",
   "execution_count": 56,
   "id": "261167ee",
   "metadata": {},
   "outputs": [],
   "source": [
    "encoder = LabelEncoder()\n",
    "data['primary_fuel'] = encoder.fit_transform(data['primary_fuel'])\n",
    "data['geolocation_source'] = encoder.fit_transform(data['geolocation_source'])\n",
    "data['source'] = encoder.fit_transform(data['source'])"
   ]
  },
  {
   "cell_type": "code",
   "execution_count": 57,
   "id": "b41fa74e",
   "metadata": {},
   "outputs": [
    {
     "data": {
      "text/plain": [
       "array([1, 2, 0])"
      ]
     },
     "execution_count": 57,
     "metadata": {},
     "output_type": "execute_result"
    }
   ],
   "source": [
    "data['geolocation_source'].unique()\n"
   ]
  },
  {
   "cell_type": "code",
   "execution_count": 58,
   "id": "7068e4a9",
   "metadata": {},
   "outputs": [
    {
     "name": "stdout",
     "output_type": "stream",
     "text": [
      "<class 'pandas.core.frame.DataFrame'>\n",
      "RangeIndex: 907 entries, 0 to 906\n",
      "Data columns (total 12 columns):\n",
      " #   Column               Non-Null Count  Dtype  \n",
      "---  ------               --------------  -----  \n",
      " 0   capacity_mw          907 non-null    float64\n",
      " 1   latitude             907 non-null    float64\n",
      " 2   longitude            907 non-null    float64\n",
      " 3   primary_fuel         907 non-null    int32  \n",
      " 4   commissioning_year   907 non-null    float64\n",
      " 5   source               907 non-null    int32  \n",
      " 6   geolocation_source   907 non-null    int32  \n",
      " 7   generation_gwh_2014  907 non-null    float64\n",
      " 8   generation_gwh_2015  907 non-null    float64\n",
      " 9   generation_gwh_2016  907 non-null    float64\n",
      " 10  generation_gwh_2017  907 non-null    float64\n",
      " 11  generation_gwh_2018  907 non-null    float64\n",
      "dtypes: float64(9), int32(3)\n",
      "memory usage: 74.5 KB\n"
     ]
    }
   ],
   "source": [
    "data.info()"
   ]
  },
  {
   "cell_type": "markdown",
   "id": "929e1c93",
   "metadata": {},
   "source": [
    "##### Remove Outliers using Zscore"
   ]
  },
  {
   "cell_type": "code",
   "execution_count": 59,
   "id": "8ade81f3",
   "metadata": {},
   "outputs": [
    {
     "name": "stdout",
     "output_type": "stream",
     "text": [
      "(array([ 15,  15,  15,  15,  15, 143, 143, 143, 143, 143, 143, 147, 158,\n",
      "       209, 209, 209, 209, 209, 209, 308, 308, 308, 308, 308, 308, 363,\n",
      "       364, 364, 364, 364, 364, 364, 375, 482, 482, 493, 493, 493, 493,\n",
      "       493, 493, 494, 494, 494, 494, 494, 494, 532, 623, 648, 648, 648,\n",
      "       648, 648, 648, 657, 657, 657, 657, 657, 657, 695, 695, 695, 695,\n",
      "       695, 695, 721, 721, 721, 721, 721, 724, 724, 724, 724, 724, 726,\n",
      "       726, 726, 726, 726, 726, 767, 786, 786, 786, 786, 786, 786, 788,\n",
      "       808, 808, 808, 808, 808, 808, 880, 880, 880, 880, 880, 880],\n",
      "      dtype=int64), array([0, 2, 3, 4, 5, 0, 1, 2, 3, 4, 5, 5, 1, 0, 1, 2, 3, 4, 5, 0, 1, 2,\n",
      "       3, 4, 5, 5, 0, 1, 2, 3, 4, 5, 5, 0, 5, 0, 1, 2, 3, 4, 5, 0, 1, 2,\n",
      "       3, 4, 5, 1, 1, 0, 1, 2, 3, 4, 5, 0, 1, 2, 3, 4, 5, 0, 1, 2, 3, 4,\n",
      "       5, 0, 1, 2, 3, 4, 0, 1, 2, 3, 4, 0, 1, 2, 3, 4, 5, 5, 0, 1, 2, 3,\n",
      "       4, 5, 5, 0, 1, 2, 3, 4, 5, 0, 1, 2, 3, 4, 5], dtype=int64))\n"
     ]
    }
   ],
   "source": [
    "from scipy.stats import zscore\n",
    "\n",
    "z=np.abs(zscore(data[['generation_gwh_2018','generation_gwh_2014','generation_gwh_2015','generation_gwh_2016','generation_gwh_2017','capacity_mw']]))\n",
    "print(np.where(z>3))"
   ]
  },
  {
   "cell_type": "code",
   "execution_count": 61,
   "id": "13230f8b",
   "metadata": {},
   "outputs": [
    {
     "name": "stdout",
     "output_type": "stream",
     "text": [
      "Shape of the dataframe before removing outliers:  (907, 12)\n",
      "Shape of the dataframe after removing outliers:  (882, 12)\n",
      "Percentage of data loss post outlier removal:  2.7563395810363835\n"
     ]
    }
   ],
   "source": [
    "z = np.abs(zscore(data[['generation_gwh_2018','generation_gwh_2014','generation_gwh_2015','generation_gwh_2016','generation_gwh_2017','capacity_mw']]))\n",
    "threshold = 3\n",
    "data1 = data[(z<3).all(axis = 1)]\n",
    "\n",
    "print (\"Shape of the dataframe before removing outliers: \", data.shape)\n",
    "print (\"Shape of the dataframe after removing outliers: \", data1.shape)\n",
    "print (\"Percentage of data loss post outlier removal: \", (data.shape[0]-data1.shape[0])/data.shape[0]*100)\n",
    "\n",
    "data=data1.copy()"
   ]
  },
  {
   "cell_type": "code",
   "execution_count": 62,
   "id": "f21e8b2a",
   "metadata": {},
   "outputs": [
    {
     "data": {
      "text/plain": [
       "(882, 12)"
      ]
     },
     "execution_count": 62,
     "metadata": {},
     "output_type": "execute_result"
    }
   ],
   "source": [
    "data.shape"
   ]
  },
  {
   "cell_type": "markdown",
   "id": "6a809a78",
   "metadata": {},
   "source": [
    "#####  Skewness Handling"
   ]
  },
  {
   "cell_type": "code",
   "execution_count": 86,
   "id": "ab8bb374",
   "metadata": {},
   "outputs": [
    {
     "data": {
      "image/png": "[encoded data removed]",
      "text/plain": [
       "<Figure size 720x1800 with 12 Axes>"
      ]
     },
     "metadata": {},
     "output_type": "display_data"
    }
   ],
   "source": [
    "plt.figure(figsize=(10,25))\n",
    "for i in enumerate(data):\n",
    "    plt.subplot(8,4,i[0]+1)\n",
    "    sns.distplot(data[i[1]],color='r')"
   ]
  },
  {
   "cell_type": "code",
   "execution_count": 65,
   "id": "d7ed7126",
   "metadata": {},
   "outputs": [
    {
     "data": {
      "text/plain": [
       "capacity_mw            2.054665\n",
       "latitude               1.914796\n",
       "longitude             -0.275375\n",
       "primary_fuel           0.428186\n",
       "commissioning_year    -0.279248\n",
       "source                 1.782583\n",
       "geolocation_source    -2.112610\n",
       "generation_gwh_2014    2.885639\n",
       "generation_gwh_2015    2.711018\n",
       "generation_gwh_2016    2.651120\n",
       "generation_gwh_2017    2.563221\n",
       "generation_gwh_2018    2.615528\n",
       "dtype: float64"
      ]
     },
     "execution_count": 65,
     "metadata": {},
     "output_type": "execute_result"
    }
   ],
   "source": [
    "data.skew()\n"
   ]
  },
  {
   "cell_type": "code",
   "execution_count": 66,
   "id": "b6d2af5b",
   "metadata": {},
   "outputs": [],
   "source": [
    "from sklearn.preprocessing import power_transform\n",
    "\n",
    "data[['capacity_mw',\"generation_gwh_2018\",'generation_gwh_2014','generation_gwh_2015','generation_gwh_2016','generation_gwh_2017']]=power_transform(data[['capacity_mw',\"generation_gwh_2018\",'generation_gwh_2014','generation_gwh_2015','generation_gwh_2016','generation_gwh_2017']])"
   ]
  },
  {
   "cell_type": "code",
   "execution_count": 67,
   "id": "d398188f",
   "metadata": {},
   "outputs": [
    {
     "data": {
      "text/plain": [
       "capacity_mw            0.016603\n",
       "latitude               1.914796\n",
       "longitude             -0.275375\n",
       "primary_fuel           0.428186\n",
       "commissioning_year    -0.279248\n",
       "source                 1.782583\n",
       "geolocation_source    -2.112610\n",
       "generation_gwh_2014   -0.016889\n",
       "generation_gwh_2015   -0.015204\n",
       "generation_gwh_2016   -0.011726\n",
       "generation_gwh_2017   -0.006580\n",
       "generation_gwh_2018   -0.001061\n",
       "dtype: float64"
      ]
     },
     "execution_count": 67,
     "metadata": {},
     "output_type": "execute_result"
    }
   ],
   "source": [
    "data.skew()\n"
   ]
  },
  {
   "cell_type": "code",
   "execution_count": 68,
   "id": "8ca21aed",
   "metadata": {},
   "outputs": [
    {
     "data": {
      "text/plain": [
       "capacity_mw            0\n",
       "latitude               0\n",
       "longitude              0\n",
       "primary_fuel           0\n",
       "commissioning_year     0\n",
       "source                 0\n",
       "geolocation_source     0\n",
       "generation_gwh_2014    0\n",
       "generation_gwh_2015    0\n",
       "generation_gwh_2016    0\n",
       "generation_gwh_2017    0\n",
       "generation_gwh_2018    0\n",
       "dtype: int64"
      ]
     },
     "execution_count": 68,
     "metadata": {},
     "output_type": "execute_result"
    }
   ],
   "source": [
    "pd.DataFrame(data).isnull().sum()"
   ]
  },
  {
   "cell_type": "markdown",
   "id": "ae9e1a9e",
   "metadata": {},
   "source": [
    " * 'capacity_mw' as target variable creating Regression model"
   ]
  },
  {
   "cell_type": "code",
   "execution_count": 69,
   "id": "97a19bdd",
   "metadata": {},
   "outputs": [],
   "source": [
    "x=data.drop(['capacity_mw'],axis=1)\n",
    "y=data['capacity_mw']"
   ]
  },
  {
   "cell_type": "markdown",
   "id": "676eff90",
   "metadata": {},
   "source": [
    "#### Splitting the data"
   ]
  },
  {
   "cell_type": "code",
   "execution_count": 158,
   "id": "1755868c",
   "metadata": {},
   "outputs": [],
   "source": [
    "from sklearn.model_selection import train_test_split\n",
    "X_train, X_test, Y_train, Y_test = train_test_split(x, y, test_size=0.27, random_state=95)\n"
   ]
  },
  {
   "cell_type": "code",
   "execution_count": 159,
   "id": "a154d7d4",
   "metadata": {},
   "outputs": [
    {
     "name": "stdout",
     "output_type": "stream",
     "text": [
      "(643, 11)\n",
      "(643,)\n"
     ]
    }
   ],
   "source": [
    "print(X_train.shape)\n",
    "print(Y_train.shape)"
   ]
  },
  {
   "cell_type": "code",
   "execution_count": 160,
   "id": "a6b1e276",
   "metadata": {},
   "outputs": [
    {
     "name": "stdout",
     "output_type": "stream",
     "text": [
      "(239, 11)\n",
      "(239,)\n"
     ]
    }
   ],
   "source": [
    "print(X_test.shape)\n",
    "print(Y_test.shape)"
   ]
  },
  {
   "cell_type": "markdown",
   "id": "4078b382",
   "metadata": {},
   "source": [
    "##### LinearRegression"
   ]
  },
  {
   "cell_type": "code",
   "execution_count": 161,
   "id": "a29e9c09",
   "metadata": {},
   "outputs": [
    {
     "data": {
      "text/plain": [
       "LinearRegression()"
      ]
     },
     "execution_count": 161,
     "metadata": {},
     "output_type": "execute_result"
    }
   ],
   "source": [
    "from sklearn.linear_model import LinearRegression\n",
    "model = LinearRegression()\n",
    "model.fit(X_train,Y_train)\n"
   ]
  },
  {
   "cell_type": "code",
   "execution_count": 162,
   "id": "d5a6ad30",
   "metadata": {},
   "outputs": [],
   "source": [
    "X_train_prediction = model.predict(X_train)\n"
   ]
  },
  {
   "cell_type": "code",
   "execution_count": 163,
   "id": "86e40873",
   "metadata": {},
   "outputs": [
    {
     "name": "stdout",
     "output_type": "stream",
     "text": [
      "At random state , The training accuracy is 0.6045946549537975\n"
     ]
    }
   ],
   "source": [
    "\n",
    "from sklearn.metrics import r2_score\n",
    "training_data = r2_score(Y_train, X_train_prediction)\n",
    "print('At random state , The training accuracy is', training_data)\n"
   ]
  },
  {
   "cell_type": "code",
   "execution_count": 164,
   "id": "4e4e4ec0",
   "metadata": {},
   "outputs": [],
   "source": [
    "X_test_prediction = model.predict(X_test)\n"
   ]
  },
  {
   "cell_type": "code",
   "execution_count": 166,
   "id": "1ae9ede0",
   "metadata": {},
   "outputs": [
    {
     "name": "stdout",
     "output_type": "stream",
     "text": [
      "At random state , The testing accuracy is 0.5813687522342401\n"
     ]
    }
   ],
   "source": [
    "test_data = r2_score(Y_test, X_test_prediction)\n",
    "print('At random state , The testing accuracy is', test_data)"
   ]
  },
  {
   "cell_type": "code",
   "execution_count": 167,
   "id": "d527d939",
   "metadata": {},
   "outputs": [
    {
     "name": "stdout",
     "output_type": "stream",
     "text": [
      "Linear coefficients : [-0.00830192 -0.0047271  -0.07451721  0.00027715 -0.0014882   0.19515402\n",
      " -0.04241648  0.17064773  0.07933128  0.19076349  0.0381092 ]\n"
     ]
    }
   ],
   "source": [
    "print(f\"Linear coefficients : {model.coef_}\") \n"
   ]
  },
  {
   "cell_type": "code",
   "execution_count": 168,
   "id": "1a7df1c5",
   "metadata": {},
   "outputs": [
    {
     "data": {
      "text/plain": [
       "0.23266299621222464"
      ]
     },
     "execution_count": 168,
     "metadata": {},
     "output_type": "execute_result"
    }
   ],
   "source": [
    "model.intercept_"
   ]
  },
  {
   "cell_type": "code",
   "execution_count": 169,
   "id": "c4fc4761",
   "metadata": {},
   "outputs": [
    {
     "name": "stdout",
     "output_type": "stream",
     "text": [
      "Root Mean Squared Error: 0.6563830107537286\n"
     ]
    }
   ],
   "source": [
    "from sklearn import metrics\n",
    "print('Root Mean Squared Error:', np.sqrt(metrics.mean_squared_error(Y_test, X_test_prediction)))"
   ]
  },
  {
   "cell_type": "code",
   "execution_count": 170,
   "id": "2d18372b",
   "metadata": {},
   "outputs": [
    {
     "data": {
      "text/plain": [
       "0.5813687522342401"
      ]
     },
     "execution_count": 170,
     "metadata": {},
     "output_type": "execute_result"
    }
   ],
   "source": [
    "from sklearn.metrics import r2_score\n",
    "r2_score(Y_test, X_test_prediction)"
   ]
  },
  {
   "cell_type": "code",
   "execution_count": 171,
   "id": "d8607075",
   "metadata": {},
   "outputs": [
    {
     "name": "stdout",
     "output_type": "stream",
     "text": [
      "Mean_absolute_error for training set is 0.4810661931243454\n",
      "Mean_absolute_error for test set is 0.5212729729460087\n"
     ]
    }
   ],
   "source": [
    "ab_train = metrics.mean_absolute_error(Y_train, X_train_prediction)\n",
    "ab_test = metrics.mean_absolute_error(Y_test, X_test_prediction)\n",
    "\n",
    "print('Mean_absolute_error for training set is {}'.format(ab_train))\n",
    "print('Mean_absolute_error for test set is {}'.format(ab_test))"
   ]
  },
  {
   "cell_type": "code",
   "execution_count": 172,
   "id": "8ec78b97",
   "metadata": {},
   "outputs": [
    {
     "name": "stdout",
     "output_type": "stream",
     "text": [
      "Mean_squared_error for training set is 0.38712266027756803\n",
      "Mean_squared_error for test set is 0.43083865680612937\n"
     ]
    }
   ],
   "source": [
    "sq_train = metrics.mean_squared_error(Y_train, X_train_prediction)\n",
    "sq_test = metrics.mean_squared_error(Y_test, X_test_prediction)\n",
    "\n",
    "print('Mean_squared_error for training set is {}'.format(sq_train))\n",
    "print('Mean_squared_error for test set is {}'.format(sq_test))\n"
   ]
  },
  {
   "cell_type": "markdown",
   "id": "28c61569",
   "metadata": {},
   "source": [
    "##### SVR"
   ]
  },
  {
   "cell_type": "code",
   "execution_count": 174,
   "id": "64a3d824",
   "metadata": {},
   "outputs": [
    {
     "name": "stdout",
     "output_type": "stream",
     "text": [
      "0.5222221283485673\n"
     ]
    }
   ],
   "source": [
    "from sklearn.svm import SVR\n",
    "\n",
    "svr=SVR(kernel='linear')\n",
    "svr.fit(X_train,Y_train)\n",
    "\n"
   ]
  },
  {
   "cell_type": "code",
   "execution_count": 180,
   "id": "fa712f51",
   "metadata": {},
   "outputs": [],
   "source": [
    "SVR_train_prediction = svr.predict(X_train)\n"
   ]
  },
  {
   "cell_type": "code",
   "execution_count": 181,
   "id": "9b16da07",
   "metadata": {},
   "outputs": [
    {
     "name": "stdout",
     "output_type": "stream",
     "text": [
      "[-0.50926978 -1.44257617 -1.24336647 -1.29573544 -0.50760106  0.99535986\n",
      "  0.14908582 -0.3580806  -0.31359733 -0.44392193 -0.31690309  0.44347113\n",
      "  0.20488108 -0.4978138   0.19263893 -1.23038953  0.52851609  0.33591763\n",
      "  0.6569234   1.13574942 -0.52758682 -0.50805951  1.20172244 -0.53363412\n",
      "  1.07551676  1.30404244 -0.20981354 -0.70887521 -1.24642759  0.72710131\n",
      " -0.41532433 -1.32279794 -1.17098516  0.18743768  0.2646649  -0.50462211\n",
      "  0.96273363 -0.06632394 -0.2547602   0.65898312  0.78981061  0.21403152\n",
      "  0.5042927   0.83315115  0.91083124  0.69508134  0.49494781  0.65805001\n",
      " -0.42134406  1.04097837 -0.51260244 -0.78562803  0.39171696  0.77480369\n",
      " -0.51429373 -0.51606973 -0.4439154   1.25087338  1.27184942  0.27382527\n",
      "  0.86487437  0.26582663  0.94264454  1.31847269  0.42669259  0.56854938\n",
      " -0.50614897  0.75172611  0.47913794 -1.12596199 -0.33651719 -1.10932786\n",
      " -1.18028492  1.0778867   0.14646245  1.00990376 -0.55993683 -0.36477896\n",
      "  1.20396977  0.15096136 -0.60048725 -1.23967138 -0.43145023 -0.52730369\n",
      "  1.42350861 -1.05024508 -0.51683759 -1.17770736  1.31845801  0.16775134\n",
      "  1.55243356  0.08235207  0.57029432  1.12722989 -0.5597552  -0.60048725\n",
      "  0.66903039 -0.57560494  1.37878597 -0.55421842  0.68039522  0.99660413\n",
      "  0.53026957 -1.20751487  0.43314563 -0.38523657  0.3326894  -0.56153516\n",
      "  0.46289115  0.80899089  0.75080784  1.00978363 -0.60048725 -0.60048725\n",
      " -0.39431358  1.34195193  0.3261736  -0.49446178  0.13333241 -0.45106095\n",
      " -1.33349121 -1.22550511  0.23167718 -0.41628073 -0.49324195 -0.50577681\n",
      "  0.16149448  1.17495343 -0.48630453  0.05656098  0.49287099 -0.35412438\n",
      "  1.37004448 -1.15089241 -1.34431535  0.60759106 -0.3343025  -0.56924342\n",
      "  1.91879799 -0.51087002  0.48614065  0.89631684  1.29259892 -1.30407539\n",
      "  0.36884034 -0.45859429  0.58013126 -0.54189243  1.01141347  0.41330268\n",
      "  0.23293013 -0.55056072 -0.40776828 -0.64441013  1.20012053  0.86809597\n",
      "  1.1026805  -1.17546714  1.14196713 -0.60048725  1.45970723  0.5323602\n",
      " -1.24470169 -1.11280707  0.70719761  0.22422768 -1.25135917  0.4515455\n",
      " -1.17146001 -0.75028345 -0.45764437  0.46294332  1.05026125  1.27275572\n",
      " -1.14265867 -0.42493366 -1.25542015  0.89443153  0.9396295  -1.13962453\n",
      " -0.51088632  0.73650296 -0.50888782  0.8882289  -0.58646224  0.91166424\n",
      "  1.27197837 -1.2201833   0.41118751 -0.52343636 -0.51485362  0.07926719\n",
      "  0.8384776  -0.35826225 -1.21705763 -0.60048725 -0.56959161 -0.42917825\n",
      "  0.38252331 -1.232008    0.77726969  0.16502605  1.15303787 -1.27503276\n",
      "  0.52946913 -0.89128719  0.24639001  0.33326255 -0.39814559  0.89238445\n",
      "  1.13023607 -0.56892834  0.60268949  1.01358751 -1.38124897 -0.50946409\n",
      "  1.12971515  0.65961297 -1.29578315  0.45940662 -0.57422267  1.12036647\n",
      " -0.33288784  0.07679927  0.67171288 -1.237855    0.176126    0.26788262\n",
      "  1.29834633  0.07155502  0.29970361 -1.29363917  0.14450208  0.39132931\n",
      "  1.12631273 -1.28862224  0.14858859  0.14695035  0.92350535  0.47342566\n",
      " -1.34756332  0.58061799  0.1547389   0.58759901  2.58013412  1.1901011\n",
      "  0.3609473  -1.37502585  1.1510287   0.7748598   0.81111793  0.69514003\n",
      "  0.56190357  1.12903973 -0.41166037 -0.49267441 -0.63745173 -1.13546322\n",
      "  0.75219495 -0.53473845  1.12052938  0.2306096   0.7553594   1.18762686\n",
      " -1.35124681 -1.27317821 -0.49810082 -0.51194484  0.59181534 -1.13694252\n",
      "  1.24245032  0.75800048 -0.5146351  -0.01429549  0.90317584  0.33285925\n",
      " -0.51504544 -1.18632353  0.67345993  0.56825184  0.08050113 -0.48024761\n",
      "  0.15408547 -0.51141094  0.97060589 -0.4491288  -0.49744466 -1.21358266\n",
      "  0.54758809  0.65741568  0.68961111  0.17735067  0.55142029 -0.51659748\n",
      "  0.33664844 -0.50610949  0.08204359 -0.50639819 -0.5618104   0.16115459\n",
      " -0.51056501 -0.14287952 -0.50022694  1.25331329  0.90556041  0.45142115\n",
      " -0.39823137  0.50939119  1.16657399  1.20871597 -0.38806024 -0.53209305\n",
      "  0.70749096 -1.29836558 -0.74527665 -1.22213624  0.74799895  1.42540286\n",
      "  0.67698611  0.85855985  1.45010728  0.66849002  0.32492458 -0.48898719\n",
      " -0.37082744  1.15134262 -1.02925891 -0.5739337  -0.51504133 -1.18542462\n",
      " -1.23142265  1.14261703 -0.54588247 -0.49676975  0.08358603  0.90177137\n",
      "  0.19135272  0.43553031  0.57918415  0.26542589 -0.33449039 -0.27169729\n",
      "  0.72093745  0.78370315  0.59143946 -0.04310199  1.17125322 -0.58123161\n",
      " -1.30000336  0.38344365 -0.06601546  0.14857315 -0.38726495 -1.24034077\n",
      " -0.47890564 -0.57408283 -0.56114723  0.50439964 -0.87571308 -1.24008743\n",
      "  1.14914416  0.70321259 -0.5935107  -0.34397974  0.38480393 -0.34951836\n",
      "  0.17089504 -0.3143737   1.08264719 -0.5090804  -0.50886844  1.17030717\n",
      " -1.32132316 -0.83102502  0.54228072 -0.36567735 -0.44432435 -1.32121329\n",
      "  0.46908868  1.22994344 -0.50526697 -0.54533144 -0.51382177  1.17650208\n",
      " -0.53454521 -1.14264959  1.10527929  0.31947772 -1.21514264 -1.19176642\n",
      "  1.19545299  1.06647949  1.03548389  0.06384282 -0.54179596  0.98292345\n",
      "  1.06617277 -1.20173106 -0.38241157 -1.03830588 -0.50627847  0.02124776\n",
      "  0.98022465  1.32088742 -0.52693195  0.63119173 -0.39926608  1.04629448\n",
      "  1.30508694  1.17701782  0.1655105  -1.23876797  0.94166395  1.13706435\n",
      " -0.34421986  0.69081733 -1.15576782 -0.54598529 -1.26724021 -1.2711219\n",
      " -0.4086421   0.41137321  0.3565405  -0.39014385  0.57653942 -1.25140196\n",
      "  1.25729707  0.91831666  0.6042224  -0.53152951 -0.50835231 -0.27105305\n",
      "  0.25299931  0.9173966   0.26223498 -1.25822486  0.60569841 -0.52451648\n",
      " -0.394666    1.71237136 -0.42556103  0.08080965 -0.51014319  1.20469681\n",
      " -1.27220181 -1.27340169 -0.5607353   0.28401234 -0.36365537  0.20558314\n",
      "  0.98394041  0.9748424   0.96291101  1.32647952 -0.43759187 -0.50730255\n",
      " -0.0657069   1.35792545  0.06295321 -0.87540459  0.08111814 -0.51174371\n",
      " -0.53853308 -1.30402214  0.86378764 -0.5458199   1.15341073 -1.538344\n",
      "  0.94642849 -0.06966496 -1.18650886  0.7596559  -0.3571875  -0.51677514\n",
      "  0.94189157 -1.18230754 -0.60048725 -1.34914398  0.29297853 -0.2822882\n",
      "  0.233013   -0.5140274  -0.60989847  0.18901405 -0.51028247 -0.51138815\n",
      " -0.53305933  0.27540521 -0.50902712 -0.37646249 -1.26496598 -0.56814113\n",
      " -0.44330427 -1.29976476 -0.51600516 -0.87035893  1.07629674 -0.54587202\n",
      "  0.41182706  1.40081766 -1.13740442  1.03248595  1.13585339 -0.5340873\n",
      "  0.77354064  0.76968601  0.74983695  0.79227882 -1.28368881 -0.5315458\n",
      "  1.45310958  0.52804009 -1.24107689 -0.42470525  1.01204148 -0.34456943\n",
      "  0.65470033 -1.29998418  0.93106951  0.72809182 -1.39086143 -0.36733535\n",
      " -0.00759632  0.36608143 -0.43856902 -0.50904034 -0.52660667  0.96069565\n",
      " -0.49418469 -0.54507729  0.73981694 -0.50794074  0.88166598  1.21633612\n",
      " -0.67969688  0.23862566 -0.4630411   1.00691119  0.08080965  0.69957883\n",
      " -0.35769492  1.01565894 -0.37607934 -1.25139047 -0.43911733  0.51547385\n",
      " -0.47216446  0.85149226  0.83872281 -1.31951481 -0.45152342 -0.50960198\n",
      "  1.08238495 -0.58071223  2.01630093  1.16937783 -0.50103011 -0.06601546\n",
      " -0.44654916  0.90526897  0.25033023  0.95648401 -0.60048725  1.09606115\n",
      "  1.05712643  1.12458463  0.14795369 -0.42401567 -0.51543312 -0.4369399\n",
      " -0.52933789  0.62252643 -0.50719445  0.94322948  0.75916332 -0.55800658\n",
      "  1.20205061  0.70184578 -0.48996401 -1.28476748 -1.24147306 -1.25134874\n",
      "  0.61062613  1.00296297  1.00136461 -0.60048725  0.25078199  1.18424023\n",
      " -1.21863622  0.84703255  0.47520602  0.46151533  0.17777126 -1.25138109\n",
      "  0.85301932 -0.51226849  0.79622291  1.93610305 -0.35901774  0.78817296\n",
      " -0.31871162 -0.39412298 -1.29534167  1.24291296 -0.39573662  0.31398832\n",
      "  1.11838266  1.34595739 -1.29753157 -1.19806919  0.7460781   0.16472327\n",
      " -0.30530562 -0.33293871  0.52506564 -0.5231879   0.17985239  1.34282448\n",
      " -0.35306105  0.07220368  0.69042079  0.67144376 -1.13870369 -0.51673179\n",
      "  0.82031159 -0.50185209  1.13336307 -0.56048395  1.09246533 -1.19474832\n",
      " -1.21149633 -0.50055339 -0.98543694  1.24072356 -1.21944439  0.55452163\n",
      " -0.40897312  0.60321689  1.17375868 -1.31413684  1.24909942 -0.5192335\n",
      " -0.32702514]\n"
     ]
    }
   ],
   "source": [
    "print(SVR_train_prediction)"
   ]
  },
  {
   "cell_type": "code",
   "execution_count": 182,
   "id": "fdf13273",
   "metadata": {},
   "outputs": [],
   "source": [
    "SVR_test_prediction = svr.predict(X_test)\n"
   ]
  },
  {
   "cell_type": "code",
   "execution_count": 183,
   "id": "27fe1219",
   "metadata": {},
   "outputs": [
    {
     "name": "stdout",
     "output_type": "stream",
     "text": [
      "[-0.41330093 -0.44432266 -1.34812035  1.02045809 -0.5088555  -0.55601779\n",
      "  0.91012307  0.68719076 -0.49489498  1.06609055  0.23482258 -0.60048725\n",
      "  1.11933203  0.86902361  0.82812534 -0.54722474  0.49353963 -0.4192255\n",
      " -0.32754922 -0.50916295  0.4829991  -1.3411084  -0.40207751  0.22840335\n",
      " -0.51820406  0.02591846  0.62342485  0.3525979   0.53522429 -1.18853244\n",
      "  0.49483173 -0.37933879  0.84748995 -0.58595717 -0.54585863 -0.87540459\n",
      " -1.38022176  0.47591157 -0.52516755  0.14788675  0.25669305  0.72847826\n",
      " -0.52691295 -1.2175312  -1.36008474  0.2981165  -0.51689157 -0.5920032\n",
      " -1.20655787 -0.60048725 -0.49740433  0.41347366 -0.51730459  1.05695135\n",
      " -1.2270894  -0.53680035  0.8128946   0.06754467  0.27672179  0.55059465\n",
      "  0.35824833  0.14329435  0.69405637 -0.54562716  0.1619906   0.76157817\n",
      " -0.50735566 -0.52183447 -0.39219848  1.0978807  -0.22306418 -0.31218861\n",
      " -0.55904168  0.82990815 -0.44805489  2.17342801 -0.0847379   0.20014646\n",
      " -1.1314722  -0.60048725  0.14862858 -0.52349851  0.81427906 -1.37035797\n",
      " -1.15503039 -1.3209836   0.81793417  1.05966426 -0.837528   -0.34073232\n",
      " -0.58433373 -0.42487553  0.5332473  -0.3490841  -1.06878779  0.65555799\n",
      "  1.4491318   1.26260984  0.43158841  0.1649465  -1.27564857  0.89874819\n",
      " -1.3210332   0.10597257  0.48812608 -0.38445521  0.73653202 -1.30019518\n",
      " -0.49371282  0.85454363  0.13850296 -1.25058535  1.30242472 -1.23041322\n",
      " -1.24551378 -0.51539742 -1.30765346 -0.5094354  -0.15779098  0.16200195\n",
      "  0.08204359 -0.40738491 -0.49295828  0.1212686  -0.50113673 -1.42321983\n",
      " -0.50649595  1.24884504  0.27052206 -0.60048725  0.12212437 -1.29922651\n",
      " -1.25628278 -1.22451588 -1.2844915   0.88445687 -0.41618918  0.08235207\n",
      "  0.71523161 -0.48524637  0.43099843 -0.74240689 -0.47096268  0.75760315\n",
      " -0.42247742 -1.28941843  0.03295721  0.74849656  1.01402059 -0.54179706\n",
      "  1.14457363 -1.22304528 -0.56682511  1.20389237  0.63322204  0.87523399\n",
      "  1.11393644 -0.65924461 -1.45818274  0.17272679  0.14538945 -0.45686457\n",
      " -0.33447953  1.05664146 -0.36409609 -1.36232684 -0.20965915 -1.31735648\n",
      " -0.60048725 -0.54277821 -1.08899981 -0.60048725  1.1373853  -0.47768267\n",
      "  1.29425587 -0.55813846  0.89673855  1.15261323 -1.06390505  0.74219491\n",
      "  0.38153164  0.61803637  1.08918766  0.23580065  1.57763497 -0.48379361\n",
      "  1.33546156 -1.25134205 -0.5268723  -0.41500295  1.3936537   0.15209351\n",
      "  0.24927863 -0.51438095 -0.52469307  0.17720065 -0.50892266 -0.5142457\n",
      "  1.32235599 -0.37716031  0.55540061  1.26959482 -0.54643093 -0.55157889\n",
      "  0.08111814 -1.25463785 -0.47268373  0.57782693 -1.25137164  1.35290873\n",
      " -0.69344914 -0.56430033  0.24485881 -0.41318133 -0.73032854 -1.22744978\n",
      "  0.2123034  -0.30862627  1.30474669  0.72393233 -1.21975738 -0.54635537\n",
      " -0.53263383 -0.4947756   0.83114367  1.6480297   0.39918005  1.24606644\n",
      "  1.17515514  0.00788977  0.558748    0.16361651  0.16077072 -0.6380764\n",
      " -0.50655314  0.195792    0.06561359  0.40752543 -0.49958153]\n"
     ]
    }
   ],
   "source": [
    "print(SVR_test_prediction)"
   ]
  },
  {
   "cell_type": "code",
   "execution_count": 184,
   "id": "c5b2d785",
   "metadata": {},
   "outputs": [
    {
     "name": "stdout",
     "output_type": "stream",
     "text": [
      "Root Mean Squared Error: 0.7087558575513676\n",
      "Mean_absolute_error for training set is 0.5078618020710707\n",
      "Mean_absolute_error for test set is 0.5408878907047772\n",
      "Mean_squared_error for training set is 0.4677697026929288\n",
      "Mean_squared_error for test set is 0.5023348656133745\n"
     ]
    }
   ],
   "source": [
    "print('Root Mean Squared Error:', np.sqrt(metrics.mean_squared_error(Y_test, SVR_test_prediction)))\n",
    "r2_score(Y_test, SVR_test_prediction)\n",
    "\n",
    "\n",
    "ab_train = metrics.mean_absolute_error(Y_train, SVR_train_prediction)\n",
    "ab_test = metrics.mean_absolute_error(Y_test, SVR_test_prediction)\n",
    "\n",
    "print('Mean_absolute_error for training set is {}'.format(ab_train))\n",
    "print('Mean_absolute_error for test set is {}'.format(ab_test))\n",
    "\n",
    "sq_train = metrics.mean_squared_error(Y_train, SVR_train_prediction)\n",
    "sq_test = metrics.mean_squared_error(Y_test, SVR_test_prediction)\n",
    "\n",
    "print('Mean_squared_error for training set is {}'.format(sq_train))\n",
    "print('Mean_squared_error for test set is {}'.format(sq_test))"
   ]
  },
  {
   "cell_type": "markdown",
   "id": "c474edb9",
   "metadata": {},
   "source": [
    "##### RandomForestRegressor"
   ]
  },
  {
   "cell_type": "code",
   "execution_count": 185,
   "id": "e69ce920",
   "metadata": {},
   "outputs": [
    {
     "data": {
      "text/plain": [
       "RandomForestRegressor()"
      ]
     },
     "execution_count": 185,
     "metadata": {},
     "output_type": "execute_result"
    }
   ],
   "source": [
    "from sklearn.ensemble import RandomForestRegressor\n",
    "\n",
    "RF=RandomForestRegressor()\n",
    "RF.fit(X_train,Y_train)"
   ]
  },
  {
   "cell_type": "code",
   "execution_count": 186,
   "id": "4323bb89",
   "metadata": {},
   "outputs": [],
   "source": [
    "RF_train_prediction = RF.predict(X_train)\n"
   ]
  },
  {
   "cell_type": "code",
   "execution_count": 187,
   "id": "15065166",
   "metadata": {},
   "outputs": [
    {
     "name": "stdout",
     "output_type": "stream",
     "text": [
      "[-8.69184667e-01  5.16499414e-01 -7.15971321e-01 -3.91952475e-01\n",
      " -1.04636930e+00  1.06851280e+00 -1.19647493e+00 -4.28015947e-01\n",
      "  3.98259776e-02 -2.53015273e-01 -8.73372039e-01  8.96467616e-01\n",
      " -8.44388458e-01 -4.11598316e-01 -6.84937898e-01 -1.73060943e+00\n",
      "  4.31780658e-01  3.57675181e-02  1.01395644e+00  1.21167529e+00\n",
      " -4.79396968e-01 -6.27780757e-01  1.07556681e+00 -1.23997012e-01\n",
      "  1.38772070e+00  1.61641246e+00  5.72803346e-01  1.27715457e+00\n",
      " -1.83098603e+00  1.21455373e+00  3.39459604e-01 -1.23201491e+00\n",
      " -9.75894926e-01 -6.44224118e-01 -1.94952267e-01 -1.59922302e+00\n",
      "  1.19424915e+00  1.54626461e-02  3.39153935e-01  2.17489675e-01\n",
      "  3.10686281e-01  6.13640578e-01  2.39547978e-01  7.43252810e-01\n",
      "  4.16246497e-01  7.30047851e-01 -2.61697742e-02  4.44189177e-01\n",
      "  1.26172410e+00  1.09730855e+00 -1.48563474e-01 -8.21465241e-02\n",
      "  2.84852126e-01  8.41306004e-01  7.30025962e-03 -8.33220902e-01\n",
      " -8.19250133e-01  1.28510009e+00  1.58142923e+00  9.68412322e-01\n",
      "  1.18341678e+00 -6.90713380e-01  1.58658568e+00  1.56471209e+00\n",
      " -3.60069134e-02  4.83031948e-01  3.22705227e-01  1.00421000e+00\n",
      "  7.60807531e-01  2.29197932e-01  7.52588605e-01 -5.31508861e-01\n",
      "  3.43771602e-01  7.14210008e-01 -1.10800348e+00  7.14621941e-01\n",
      " -5.61231796e-01 -8.28855158e-02  1.57427259e+00 -3.91869211e-01\n",
      " -5.15849097e-01 -1.81153653e-01 -5.46012514e-01 -1.40235099e+00\n",
      "  1.44810692e+00 -3.21947632e-01 -3.54938730e-01 -1.27522901e+00\n",
      "  1.53558447e+00 -9.26126138e-01  9.31901352e-01 -1.22322527e+00\n",
      "  2.68869779e-01  1.23139576e+00 -6.60522363e-01 -5.15849097e-01\n",
      "  9.52863540e-02 -8.58159428e-01  1.57514619e+00  6.25191378e-03\n",
      "  6.71353445e-01  1.01232904e+00  2.47727839e-01 -6.27929956e-01\n",
      " -1.11762804e+00 -6.66819751e-01 -3.49262540e-01 -1.16087838e+00\n",
      "  1.43910075e+00  8.02948647e-01  1.96949630e-01  9.88656011e-01\n",
      " -5.15849097e-01 -5.15849097e-01  1.65432868e-02  1.62254989e+00\n",
      "  5.71219673e-01  1.09956601e-01 -1.26870308e+00 -9.36648714e-01\n",
      " -1.11540876e+00 -1.17790877e+00 -1.11646427e+00 -2.01646521e-01\n",
      " -8.30054992e-01  7.30634167e-01 -7.15468800e-02  1.15840793e+00\n",
      " -6.94556808e-01  1.40571063e+00 -6.59929184e-02 -7.58564015e-01\n",
      "  1.54574805e+00 -1.31822566e+00  1.35927146e-01 -2.70201744e-01\n",
      " -7.77132490e-02 -1.32996294e-01  1.38915329e+00 -8.03268065e-02\n",
      "  3.14826809e-01  9.03916514e-01  1.66109692e+00 -9.82220542e-01\n",
      "  4.09033591e-01 -9.99044953e-02  7.11473126e-01 -7.72119961e-01\n",
      "  1.14524523e+00 -9.24034091e-01  2.10518791e-02 -7.97213314e-01\n",
      "  4.24588714e-01 -1.83253183e-01  1.58775306e+00  1.01190727e+00\n",
      "  1.75833876e+00 -1.16512438e+00  1.25783274e+00 -5.15849097e-01\n",
      "  1.64022927e+00  2.28814730e-01 -1.73210420e+00 -9.94742476e-01\n",
      "  4.38503155e-01 -7.03771848e-01 -1.36301000e+00  1.45077151e+00\n",
      " -8.42866684e-01  8.39974318e-01 -5.80528045e-01  1.66575809e+00\n",
      "  8.34017009e-01  1.45220538e+00 -5.99905334e-01 -4.56454325e-01\n",
      " -1.29311731e+00  5.07012656e-01  8.10829749e-01 -1.68587163e+00\n",
      "  1.00217424e-01  5.28929531e-01 -5.52185251e-01  8.84328300e-01\n",
      " -1.71475154e-01  1.14770572e+00  1.61087171e+00 -1.15910391e+00\n",
      " -9.50407020e-02 -6.04565572e-01 -6.75732309e-01 -1.12584564e+00\n",
      "  8.42053273e-01 -2.69864078e-01 -1.17234181e+00 -5.15849097e-01\n",
      " -4.29682854e-01 -2.65121806e-01 -8.08696283e-02 -1.10754737e+00\n",
      "  5.97513681e-01 -7.99624033e-01  1.63063237e+00 -1.26429114e+00\n",
      "  1.11375600e+00  1.44651984e+00 -8.34795422e-01  2.28831226e-01\n",
      " -3.89506236e-01  9.45905287e-01  1.35809862e+00 -4.44781612e-02\n",
      "  5.41458743e-01  1.27547526e+00 -8.03416294e-01 -8.66719045e-01\n",
      "  1.61556441e+00  1.26222836e+00 -5.10641390e-01 -7.51178239e-01\n",
      " -1.97760854e-01  1.57796001e+00 -1.22304822e-01 -1.00577456e+00\n",
      " -5.02008568e-02 -1.38804604e+00 -8.55676756e-01 -4.38657910e-01\n",
      "  1.24042786e+00 -1.04668569e+00 -3.48689287e-01 -1.82012708e+00\n",
      "  6.25088002e-01 -2.15681075e-01  1.30771499e+00  1.48866556e+00\n",
      " -8.84874901e-01 -8.52877523e-01  1.12720319e+00 -1.04926417e-01\n",
      "  1.32595002e-01  3.05422888e-01 -1.18210114e+00 -1.11939407e-01\n",
      "  1.63572725e+00  1.54633701e+00 -3.90488031e-01 -1.16618522e+00\n",
      "  1.46880541e+00  7.05259193e-01  8.02368728e-01  2.88171053e-01\n",
      "  8.35259087e-02  1.39213482e+00  5.76560997e-01 -6.27101014e-01\n",
      "  7.49551213e-01  2.76222646e-01  7.93540035e-01 -7.71163565e-01\n",
      "  1.04519028e+00 -1.00071799e+00  5.98925487e-01  1.64293442e+00\n",
      "  2.68501068e-01 -8.61913199e-01  3.55823839e-01 -4.09487039e-01\n",
      "  7.62073110e-01 -7.84576753e-01  1.11066598e+00  6.52013910e-02\n",
      " -8.95251180e-02 -3.77064689e-01  1.25782622e+00  2.30501946e-01\n",
      " -6.81620590e-01 -1.15265885e+00  1.54677609e-01  2.55722502e-01\n",
      " -1.28090522e+00 -2.12717254e-01 -1.09389494e+00 -5.17511461e-01\n",
      "  1.29899348e+00 -7.57798497e-01 -5.90510026e-01 -1.19185933e+00\n",
      "  3.25917274e-01  4.59705451e-01  2.90597525e-01  1.54582927e-01\n",
      "  1.54551803e+00 -3.78634145e-01  3.81032416e-02 -1.55655196e+00\n",
      " -9.84104435e-01 -4.45105070e-02 -4.39179127e-01 -2.73765255e-01\n",
      " -7.82261848e-01  1.00118074e+00 -9.92835655e-02  1.43596920e+00\n",
      "  8.96420837e-01  2.03314363e-01 -4.47918484e-01  2.01271099e-02\n",
      "  1.20951569e+00  1.53982129e+00 -1.44386190e-01  1.06061527e-01\n",
      "  1.03967728e+00 -8.69106910e-01  6.59240775e-01 -7.30049848e-01\n",
      " -4.54193167e-02  1.67303487e+00  3.71254299e-01  1.36319895e+00\n",
      "  4.27492267e-01  5.49818194e-01  3.00228777e-01  9.28343666e-01\n",
      " -2.56610771e-01  1.20720746e+00 -1.37719830e+00 -6.67869657e-01\n",
      " -3.78949236e-01 -1.56232686e+00 -7.25849818e-01  1.68401471e+00\n",
      " -4.47529371e-01  4.09173326e-02 -6.34646463e-01  1.34446421e+00\n",
      " -3.62749019e-01  1.51745971e-01  1.11100270e-01 -3.68729017e-01\n",
      " -2.20558667e-02  4.84432602e-01  5.24765431e-01  7.45289865e-01\n",
      "  1.28003649e-01  7.78592552e-01  1.43876352e+00 -2.02129351e-01\n",
      " -2.35823778e-01 -1.05239368e+00 -2.27074937e-01 -3.77762032e-01\n",
      " -1.51758188e-01 -1.84404783e+00 -5.69012691e-01 -2.38491949e-01\n",
      " -1.81967076e-01  4.87645979e-01 -2.59331365e-01 -4.96012916e-01\n",
      "  1.53009400e+00 -1.98572634e-01 -5.37514191e-01 -6.29488563e-01\n",
      " -2.95638010e-01 -5.08365075e-01 -6.44180902e-01  8.33006018e-01\n",
      "  9.46300943e-01 -5.74693619e-01 -7.74230986e-01  1.56493789e+00\n",
      " -1.44170638e+00  1.35816005e+00  6.15895111e-03  6.23558252e-01\n",
      " -6.51033334e-01 -1.34159053e+00  1.83077350e-01  1.65613177e+00\n",
      " -9.04958157e-01 -1.35076064e+00 -6.88202086e-01  1.50636850e+00\n",
      " -4.89176406e-02 -1.12569153e+00  1.25590412e+00 -1.06261923e+00\n",
      " -1.27065431e+00 -1.41366120e+00  8.69343895e-01  1.45584639e+00\n",
      "  1.14538919e+00 -1.24854136e+00 -1.40157710e-01  1.49467913e+00\n",
      "  1.13250194e+00 -1.56052001e+00 -4.48336652e-01 -1.46475365e+00\n",
      " -9.82530224e-01 -1.02633043e-01  8.41983867e-01  8.71067806e-01\n",
      " -3.10198699e-01  1.15242614e+00 -8.04206731e-01  1.14057815e+00\n",
      "  1.57760320e+00  1.57722423e+00  8.44959956e-01 -1.47608709e+00\n",
      "  1.12319997e+00  9.78977607e-01 -6.26612240e-02  1.12379257e+00\n",
      " -1.35055472e+00 -1.87124941e-01 -8.76047949e-01 -1.15325336e+00\n",
      " -6.78334556e-01 -2.57244442e-01  1.92260488e-01 -2.75025388e-01\n",
      " -1.17699132e-01 -1.36301000e+00  1.70851390e+00  1.13317643e+00\n",
      "  8.29632724e-01 -8.37784846e-02 -1.30176148e+00 -1.59795765e-01\n",
      " -1.27183440e+00  1.19801370e+00 -3.56876900e-02 -1.36622459e+00\n",
      "  5.67559372e-01 -7.48834367e-01 -5.90827714e-01  1.61455762e+00\n",
      " -5.82134792e-01 -1.11852164e+00 -1.03233456e+00  1.14768726e+00\n",
      " -8.48791862e-01 -1.38714548e+00 -7.93050067e-01 -3.22955307e-01\n",
      "  1.42095018e-01  1.34933265e-01  1.14930482e+00  1.37292308e+00\n",
      "  1.28931309e+00  1.43600358e+00 -6.36742618e-01 -1.60234509e+00\n",
      " -1.60004797e-01  1.49659718e+00 -2.34881479e-01 -3.16712989e-01\n",
      " -1.36220649e+00 -1.13881538e+00 -8.78926598e-01 -8.86230595e-01\n",
      "  8.72818605e-01 -4.11694306e-01  1.08750309e+00  1.34059945e-02\n",
      "  1.28648305e+00 -1.83228605e-01 -1.46103651e+00  4.12821966e-01\n",
      "  3.00108786e-01 -2.14126845e-01  1.00884517e+00 -1.37484700e+00\n",
      " -5.15849097e-01 -7.49230257e-01 -2.92042918e-01 -3.04219777e-01\n",
      " -9.74598713e-01 -1.81390814e-01  6.21480292e-02  1.13842870e+00\n",
      " -9.40388044e-01 -9.39629630e-01 -6.04891838e-01  3.68969236e-01\n",
      " -3.13290106e-01 -5.85620186e-01 -1.28251148e+00 -3.15544883e-01\n",
      " -4.92459675e-01 -2.03650843e+00 -5.25423343e-01  8.57562434e-01\n",
      "  1.55079929e+00 -5.90606281e-01 -7.73852995e-01  1.62282422e+00\n",
      " -1.16087387e+00  9.21903279e-01  1.53539299e+00 -2.66299749e-01\n",
      "  3.68332138e-01  8.55419137e-01  6.91469119e-01  8.95223246e-01\n",
      " -5.96886915e-01  6.39791543e-04  9.00273178e-01  2.25895719e-01\n",
      " -9.87634468e-01 -7.04903836e-01  1.19216641e+00 -1.96016516e-01\n",
      "  7.97496640e-01 -4.32173359e-01  3.96134425e-01  5.49568591e-01\n",
      " -8.27796224e-01 -3.43141233e-01  1.37371833e+00  8.85397776e-02\n",
      " -7.32321411e-01 -9.70083278e-01 -1.40129354e+00  1.76322144e+00\n",
      " -7.42558226e-01 -3.04870286e-01  8.45344021e-02 -6.96752566e-01\n",
      "  7.11207957e-01  1.75363834e+00  2.28890948e-01 -1.25754136e+00\n",
      " -6.80495863e-01  1.35695270e+00 -1.11852164e+00  8.24991938e-01\n",
      " -5.06705431e-01  5.38034051e-01 -3.78950556e-01 -1.36301000e+00\n",
      " -6.38787479e-01  5.46593764e-01 -1.05190007e-01  1.20938548e+00\n",
      "  1.11195118e+00 -6.86486532e-01 -5.29656755e-01 -1.00619947e+00\n",
      "  1.23919031e+00 -4.71025771e-01  1.53011674e+00  1.65403559e+00\n",
      " -7.83614758e-01 -2.27074937e-01 -8.54856360e-02  1.21449640e+00\n",
      " -6.37220023e-01  9.16688327e-01 -5.15849097e-01  1.55051771e+00\n",
      "  1.17796730e+00  9.10361265e-01 -9.37214398e-01 -4.12431087e-01\n",
      " -1.31743548e+00 -2.89543215e-01 -1.33361129e+00  2.16521610e-01\n",
      " -2.98647735e-01  1.16388080e+00  1.05283817e-01 -5.90991171e-01\n",
      "  1.59485339e+00  4.42389149e-01 -8.46722164e-01 -1.42386249e+00\n",
      " -1.84680994e+00 -1.36301000e+00  2.51404927e-01  1.21348848e+00\n",
      "  1.04988836e+00 -5.15849097e-01  2.08437497e-01  1.57435581e+00\n",
      " -4.57028831e-01  1.04708190e+00  6.75574492e-01  3.51691223e-01\n",
      " -1.04007404e+00 -1.36301000e+00  7.32533636e-01 -9.09190645e-01\n",
      "  1.75855859e+00  1.70874261e+00 -4.94975483e-01  7.23072217e-01\n",
      "  6.52088162e-02 -6.70745571e-01 -1.80147626e+00  1.16663672e+00\n",
      " -8.83743307e-01 -1.32021531e-01  2.78852887e-01  1.58434071e+00\n",
      " -9.40522637e-01 -1.13872649e+00  1.04856084e+00 -7.21722696e-01\n",
      " -1.18931101e-01  3.25365345e-01  7.67515256e-01  1.12862732e-01\n",
      " -8.98224481e-01  1.62273805e+00 -6.77917765e-01  4.69172923e-01\n",
      "  4.65642704e-01  6.14096677e-01 -1.60193399e+00 -4.14134524e-01\n",
      "  1.06232789e+00 -3.86348746e-01  1.43579345e+00 -4.66747661e-01\n",
      "  1.56875966e+00 -1.42622507e+00 -1.05446075e+00 -6.21430871e-01\n",
      "  6.08543505e-01  1.44769453e+00 -3.85508607e-01  1.00186636e-01\n",
      "  6.03437349e-01  2.28288368e-01  1.15242862e+00 -8.08530559e-01\n",
      "  1.58850671e+00 -4.74890149e-01 -3.54071767e-01]\n"
     ]
    }
   ],
   "source": [
    "print(RF_train_prediction)"
   ]
  },
  {
   "cell_type": "code",
   "execution_count": 188,
   "id": "93ec06e1",
   "metadata": {},
   "outputs": [],
   "source": [
    "RF_test_prediction = RF.predict(X_test)\n"
   ]
  },
  {
   "cell_type": "code",
   "execution_count": 189,
   "id": "0dd4a400",
   "metadata": {},
   "outputs": [
    {
     "name": "stdout",
     "output_type": "stream",
     "text": [
      "[ 0.1446431  -0.54384646 -0.74923026  1.10575982 -1.03729168 -0.06639301\n",
      "  1.02382355  0.60958934 -0.77101069  1.34878472 -0.93293353 -0.5158491\n",
      "  1.59362355  0.83505918  1.23818227 -0.06161042  0.12262605 -0.1662602\n",
      " -0.08295208 -0.55218525  0.06345406 -1.25867602 -0.14775755 -0.69231714\n",
      " -0.25882138  1.07797773  0.06470429 -0.84700223  0.57475216 -1.1686627\n",
      "  1.3740226  -0.68124809  1.22136634 -0.32368711 -0.27548989 -0.31671299\n",
      " -0.81799324 -0.02410528 -0.46570183 -1.00649666 -0.53492713  1.2311786\n",
      " -0.30800827 -1.48017739 -0.88643875 -0.18718429 -0.20248232 -0.34875435\n",
      " -1.22231667 -0.5158491  -0.45284303 -0.14408617 -0.81637685  1.42693821\n",
      " -1.0325389  -0.52242732  0.80860511 -1.2335137  -0.58793488  0.21354189\n",
      " -0.22557485 -0.80710783  1.2492909  -0.35618802 -1.00185881  1.09983597\n",
      " -1.61103314 -0.50375554 -0.09963677  1.56630556  0.11814404 -0.44346804\n",
      " -0.54876236  0.80687282 -0.352989    1.42629635  0.72109349 -0.89958188\n",
      " -1.31419619 -0.5158491  -0.87145248 -0.47315889  0.99483013  0.74017534\n",
      " -1.40923595 -0.66857118  0.24569188  1.08774034  1.38052469 -0.11214837\n",
      " -0.19590441 -0.69082784  0.23298099  0.44734001 -0.99335947  0.23038923\n",
      "  1.6453531   1.46502452  0.1135557  -0.6613881  -0.77312209  1.04489698\n",
      " -0.66857118 -0.81251244  0.33292479 -0.658401    0.56789846 -1.11354674\n",
      " -0.27687416  1.38550399  0.92995302 -1.37264916  1.54820277 -1.73060943\n",
      " -1.54948511 -0.11019508 -1.05587856 -1.01128576  0.3503386  -0.98174429\n",
      " -0.98410443 -0.34014294 -0.51358292  0.58641271 -0.77640696  0.2767833\n",
      " -1.10491663  0.97340688 -0.84251207 -0.5158491   0.03647627 -0.84950729\n",
      " -1.25098625 -1.00359113 -1.08672668  0.28878988 -0.54302866 -1.22322527\n",
      "  0.79872241 -0.19252887  0.05267903  0.21205595 -0.63942199  0.86877244\n",
      "  0.22319257 -1.39655363  0.37706875  0.5160364   1.17524728 -0.53128075\n",
      "  1.4610591  -1.72038901 -0.17918755  1.56204728  0.21821084  0.96393987\n",
      "  1.59274251  0.43413643  0.78863027 -0.76984251 -0.86675303  0.06565354\n",
      " -0.18219837  1.33915348 -0.6096645  -1.15167631  0.29984218 -0.98063916\n",
      " -0.5158491  -0.8637404  -1.04100175 -0.5158491   1.37786308 -0.50113127\n",
      "  1.59204288 -0.40224498  1.50546264  1.47854117 -0.2083249   0.05653192\n",
      " -0.0723577   0.21150797  1.1232034  -1.11120475  1.53050289 -0.25949328\n",
      "  1.55226926 -1.36301    -0.78008478 -0.58524451  1.59193995 -0.84380983\n",
      "  0.75247494 -0.20303614 -0.25594849 -0.83713187 -0.69832996 -0.79367491\n",
      "  1.57836053 -0.71961021  0.40237739  1.5806494   0.08315308 -0.79599013\n",
      " -1.36220649 -1.13916497 -0.53020938  0.97657299 -1.36301     1.53963707\n",
      "  0.0838865  -0.68631101 -0.16539177  0.04519439  1.68601193 -1.21143317\n",
      " -0.7587827  -0.08348725  1.66892173  0.58098347 -1.11522603 -0.57998769\n",
      " -0.50249056 -0.10400966  0.30768602  1.45319374  0.07309207  1.55405645\n",
      "  1.51441561 -0.43329447  0.25463915 -0.85169261 -0.91859693  0.75429086\n",
      " -1.63889492 -0.71395293 -0.01379276  0.26543622 -0.49827625]\n"
     ]
    }
   ],
   "source": [
    "print(RF_test_prediction)"
   ]
  },
  {
   "cell_type": "code",
   "execution_count": 190,
   "id": "7ecabd4f",
   "metadata": {},
   "outputs": [
    {
     "name": "stdout",
     "output_type": "stream",
     "text": [
      "Root Mean Squared Error: 0.4121068381389735\n",
      "Mean_absolute_error for training set is 0.12719232575910364\n",
      "Mean_absolute_error for test set is 0.2950366399586936\n",
      "Mean_squared_error for training set is 0.0356068085116457\n",
      "Mean_squared_error for test set is 0.16983204604090207\n"
     ]
    }
   ],
   "source": [
    "print('Root Mean Squared Error:', np.sqrt(metrics.mean_squared_error(Y_test, RF_test_prediction)))\n",
    "r2_score(Y_test, RF_test_prediction)\n",
    "\n",
    "\n",
    "ab_train = metrics.mean_absolute_error(Y_train, RF_train_prediction)\n",
    "ab_test = metrics.mean_absolute_error(Y_test, RF_test_prediction)\n",
    "\n",
    "print('Mean_absolute_error for training set is {}'.format(ab_train))\n",
    "print('Mean_absolute_error for test set is {}'.format(ab_test))\n",
    "\n",
    "sq_train = metrics.mean_squared_error(Y_train, RF_train_prediction)\n",
    "sq_test = metrics.mean_squared_error(Y_test, RF_test_prediction)\n",
    "\n",
    "print('Mean_squared_error for training set is {}'.format(sq_train))\n",
    "print('Mean_squared_error for test set is {}'.format(sq_test))"
   ]
  },
  {
   "cell_type": "markdown",
   "id": "52857c50",
   "metadata": {},
   "source": [
    "##### DecisionTreeRegressor"
   ]
  },
  {
   "cell_type": "code",
   "execution_count": 191,
   "id": "dc679efc",
   "metadata": {},
   "outputs": [
    {
     "data": {
      "text/plain": [
       "DecisionTreeRegressor()"
      ]
     },
     "execution_count": 191,
     "metadata": {},
     "output_type": "execute_result"
    }
   ],
   "source": [
    "from sklearn.tree import DecisionTreeRegressor\n",
    "\n",
    "dtr=DecisionTreeRegressor()\n",
    "dtr.fit(X_train,Y_train)"
   ]
  },
  {
   "cell_type": "code",
   "execution_count": 192,
   "id": "adaa60bb",
   "metadata": {},
   "outputs": [],
   "source": [
    "dtr_train_prediction = dtr.predict(X_train)\n"
   ]
  },
  {
   "cell_type": "code",
   "execution_count": 193,
   "id": "38b59d9e",
   "metadata": {},
   "outputs": [],
   "source": [
    "dtr_test_prediction = dtr.predict(X_test)\n"
   ]
  },
  {
   "cell_type": "code",
   "execution_count": 194,
   "id": "6e7b350c",
   "metadata": {},
   "outputs": [
    {
     "name": "stdout",
     "output_type": "stream",
     "text": [
      "Root Mean Squared Error: 0.5646299633822006\n",
      "Mean_absolute_error for training set is 0.00959885464923322\n",
      "Mean_absolute_error for test set is 0.3959142498992879\n",
      "Mean_squared_error for training set is 0.006693719163164954\n",
      "Mean_squared_error for test set is 0.3188069955489852\n"
     ]
    }
   ],
   "source": [
    "print('Root Mean Squared Error:', np.sqrt(metrics.mean_squared_error(Y_test, dtr_test_prediction)))\n",
    "r2_score(Y_test, dtr_test_prediction)\n",
    "\n",
    "\n",
    "ab_train = metrics.mean_absolute_error(Y_train, dtr_train_prediction)\n",
    "ab_test = metrics.mean_absolute_error(Y_test, dtr_test_prediction)\n",
    "\n",
    "print('Mean_absolute_error for training set is {}'.format(ab_train))\n",
    "print('Mean_absolute_error for test set is {}'.format(ab_test))\n",
    "\n",
    "sq_train = metrics.mean_squared_error(Y_train, dtr_train_prediction)\n",
    "sq_test = metrics.mean_squared_error(Y_test, dtr_test_prediction)\n",
    "\n",
    "print('Mean_squared_error for training set is {}'.format(sq_train))\n",
    "print('Mean_squared_error for test set is {}'.format(sq_test))"
   ]
  },
  {
   "cell_type": "markdown",
   "id": "16208cb2",
   "metadata": {},
   "source": [
    "##### HYPER PARAMETER TUNING:\n",
    "###### GridSearchCV\n",
    "\n"
   ]
  },
  {
   "cell_type": "code",
   "execution_count": 197,
   "id": "cf46aa00",
   "metadata": {},
   "outputs": [],
   "source": [
    "from sklearn.model_selection import GridSearchCV\n",
    "from sklearn.ensemble import GradientBoostingRegressor"
   ]
  },
  {
   "cell_type": "code",
   "execution_count": 198,
   "id": "9250b4e8",
   "metadata": {},
   "outputs": [],
   "source": [
    "GF=GradientBoostingRegressor()\n",
    "param={\n",
    "     'criterion':['mse','mae'],\n",
    "     'n_estimators':[100, 200],\n",
    "    }\n"
   ]
  },
  {
   "cell_type": "code",
   "execution_count": 200,
   "id": "ea3abdb5",
   "metadata": {},
   "outputs": [
    {
     "name": "stdout",
     "output_type": "stream",
     "text": [
      "Fitting 10 folds for each of 4 candidates, totalling 40 fits\n"
     ]
    },
    {
     "data": {
      "text/plain": [
       "{'criterion': 'mse', 'n_estimators': 100}"
      ]
     },
     "execution_count": 200,
     "metadata": {},
     "output_type": "execute_result"
    }
   ],
   "source": [
    "GF_grid=GridSearchCV(RandomForestRegressor(),param,cv=10,scoring='accuracy',n_jobs=-1,verbose=2)\n",
    "GF_grid.fit(X_train,Y_train)\n",
    "GF_grid_pred=GF_grid.best_estimator_.predict(X_test)\n",
    "\n",
    "GF_grid.best_params_\n",
    "{'criterion': 'mse', 'n_estimators': 100}"
   ]
  },
  {
   "cell_type": "code",
   "execution_count": 201,
   "id": "670a4694",
   "metadata": {},
   "outputs": [
    {
     "name": "stdout",
     "output_type": "stream",
     "text": [
      "Root Mean Squared Error: 0.4088899573524\n",
      "Mean_absolute_error for test set is 0.29269959804257184\n",
      "Mean_squared_error for test set is 0.16719099722364753\n"
     ]
    }
   ],
   "source": [
    "print('Root Mean Squared Error:', np.sqrt(metrics.mean_squared_error(Y_test, GF_grid_pred)))\n",
    "r2_score(Y_test, GF_grid_pred)\n",
    "\n",
    "ab_test = metrics.mean_absolute_error(Y_test, GF_grid_pred)\n",
    "print('Mean_absolute_error for test set is {}'.format(ab_test))\n",
    "\n",
    "sq_test = metrics.mean_squared_error(Y_test, GF_grid_pred)\n",
    "print('Mean_squared_error for test set is {}'.format(sq_test))"
   ]
  },
  {
   "cell_type": "code",
   "execution_count": 204,
   "id": "5ecdbd5e",
   "metadata": {},
   "outputs": [
    {
     "data": {
      "text/plain": [
       "<AxesSubplot:xlabel='capacity_mw', ylabel='Density'>"
      ]
     },
     "execution_count": 204,
     "metadata": {},
     "output_type": "execute_result"
    },
    {
     "data": {
      "image/png": "[encoded data removed]",
      "text/plain": [
       "<Figure size 432x288 with 1 Axes>"
      ]
     },
     "metadata": {},
     "output_type": "display_data"
    }
   ],
   "source": [
    "sns.distplot(GF_grid_pred-Y_test)"
   ]
  },
  {
   "cell_type": "markdown",
   "id": "64a295c9",
   "metadata": {},
   "source": [
    "##### GradientBoostingRegressor"
   ]
  },
  {
   "cell_type": "markdown",
   "id": "58cb0467",
   "metadata": {},
   "source": [
    "* Selecting 'primary_fuel' as target variable\n",
    " * CREATING CLASSIFICATION MODEL\n"
   ]
  },
  {
   "cell_type": "code",
   "execution_count": null,
   "id": "ea019b0b",
   "metadata": {},
   "outputs": [],
   "source": [
    "#Dividing data into X and Y\n"
   ]
  },
  {
   "cell_type": "code",
   "execution_count": 209,
   "id": "afff43d2",
   "metadata": {},
   "outputs": [],
   "source": [
    "x=data.drop(['primary_fuel'],axis=1)\n",
    "y=data['primary_fuel']\n"
   ]
  },
  {
   "cell_type": "code",
   "execution_count": 211,
   "id": "bcac2b83",
   "metadata": {},
   "outputs": [
    {
     "data": {
      "text/plain": [
       "(882, 11)"
      ]
     },
     "execution_count": 211,
     "metadata": {},
     "output_type": "execute_result"
    }
   ],
   "source": [
    "x.shape\n",
    "\n"
   ]
  },
  {
   "cell_type": "code",
   "execution_count": 212,
   "id": "17cb86ff",
   "metadata": {},
   "outputs": [
    {
     "data": {
      "text/plain": [
       "(882,)"
      ]
     },
     "execution_count": 212,
     "metadata": {},
     "output_type": "execute_result"
    }
   ],
   "source": [
    "\n",
    "y.shape"
   ]
  },
  {
   "cell_type": "code",
   "execution_count": 214,
   "id": "f3fb6a08",
   "metadata": {},
   "outputs": [],
   "source": [
    "#Spliting Train and Test data\n",
    "from sklearn.model_selection import train_test_split\n",
    "x_train,x_test,y_train,y_test=train_test_split(x,y,test_size=.27,random_state=48)\n"
   ]
  },
  {
   "cell_type": "code",
   "execution_count": 215,
   "id": "90a01b3d",
   "metadata": {},
   "outputs": [
    {
     "data": {
      "text/plain": [
       "(643, 11)"
      ]
     },
     "execution_count": 215,
     "metadata": {},
     "output_type": "execute_result"
    }
   ],
   "source": [
    "x_train.shape\n"
   ]
  },
  {
   "cell_type": "code",
   "execution_count": 216,
   "id": "3f82804c",
   "metadata": {},
   "outputs": [
    {
     "data": {
      "text/plain": [
       "(239, 11)"
      ]
     },
     "execution_count": 216,
     "metadata": {},
     "output_type": "execute_result"
    }
   ],
   "source": [
    "x_test.shape\n",
    "\n"
   ]
  },
  {
   "cell_type": "code",
   "execution_count": 217,
   "id": "688e185b",
   "metadata": {},
   "outputs": [
    {
     "data": {
      "text/plain": [
       "(643,)"
      ]
     },
     "execution_count": 217,
     "metadata": {},
     "output_type": "execute_result"
    }
   ],
   "source": [
    "y_train.shape\n",
    "\n"
   ]
  },
  {
   "cell_type": "code",
   "execution_count": 218,
   "id": "98ddb32d",
   "metadata": {},
   "outputs": [
    {
     "data": {
      "text/plain": [
       "(239,)"
      ]
     },
     "execution_count": 218,
     "metadata": {},
     "output_type": "execute_result"
    }
   ],
   "source": [
    "y_test.shape"
   ]
  },
  {
   "cell_type": "code",
   "execution_count": 222,
   "id": "47e93cdc",
   "metadata": {},
   "outputs": [
    {
     "name": "stdout",
     "output_type": "stream",
     "text": [
      "cross validation score: 0.5362801746276322\n"
     ]
    }
   ],
   "source": [
    "from sklearn.linear_model import LogisticRegression\n",
    "from sklearn.model_selection import cross_val_score\n",
    "logreg=LogisticRegression()\n",
    "logreg_score=cross_val_score(logreg,x,y,cv=5,scoring='accuracy')\n",
    "print(\"cross validation score:\",np.mean(logreg_score))\n"
   ]
  },
  {
   "cell_type": "code",
   "execution_count": 224,
   "id": "5dd4c6a6",
   "metadata": {},
   "outputs": [
    {
     "name": "stdout",
     "output_type": "stream",
     "text": [
      "0.5146443514644351\n",
      "[[ 0  2  0  0  0  0  9  2]\n",
      " [ 0  4  0 49  0  0 11  5]\n",
      " [ 0  5  0 16  0  0  1  0]\n",
      " [ 0  1  0 61  0  0  0  0]\n",
      " [ 0  1  0  0  0  0  0  0]\n",
      " [ 0  0  0  2  0  0  3  1]\n",
      " [ 1  1  0  0  0  0 21  6]\n",
      " [ 0  0  0  0  0  0  0 37]]\n",
      "              precision    recall  f1-score   support\n",
      "\n",
      "           0       0.00      0.00      0.00        13\n",
      "           1       0.29      0.06      0.10        69\n",
      "           2       0.00      0.00      0.00        22\n",
      "           3       0.48      0.98      0.64        62\n",
      "           4       0.00      0.00      0.00         1\n",
      "           5       0.00      0.00      0.00         6\n",
      "           6       0.47      0.72      0.57        29\n",
      "           7       0.73      1.00      0.84        37\n",
      "\n",
      "    accuracy                           0.51       239\n",
      "   macro avg       0.24      0.35      0.27       239\n",
      "weighted avg       0.38      0.51      0.39       239\n",
      "\n",
      "Training accuracy:: 0.5567651632970451\n",
      "Test accuracy:: 0.5146443514644351\n"
     ]
    }
   ],
   "source": [
    "from sklearn.metrics import accuracy_score,confusion_matrix,classification_report\n",
    "logreg.fit(x_train,y_train)\n",
    "LR_predicted=logreg.predict(x_test)\n",
    "\n",
    "print(accuracy_score(y_test,LR_predicted))\n",
    "print(confusion_matrix(y_test,LR_predicted))\n",
    "print(classification_report(y_test,LR_predicted))\n",
    "print(\"Training accuracy::\",logreg.score(x_train,y_train))\n",
    "print(\"Test accuracy::\",logreg.score(x_test,y_test))"
   ]
  },
  {
   "cell_type": "markdown",
   "id": "fdfb74f7",
   "metadata": {},
   "source": [
    "##### DECISION TREE CLASSIFIER\n"
   ]
  },
  {
   "cell_type": "code",
   "execution_count": 225,
   "id": "9d3d4b9f",
   "metadata": {},
   "outputs": [
    {
     "name": "stdout",
     "output_type": "stream",
     "text": [
      "cross validation score for svm: 0.8140472521828453\n"
     ]
    }
   ],
   "source": [
    "from sklearn.tree import DecisionTreeClassifier\n",
    "\n",
    "dtc=DecisionTreeClassifier()\n",
    "dtc_score=cross_val_score(dtc,x,y,cv=5,scoring='accuracy')\n",
    "print(\"cross validation score for svm:\",np.mean(dtc_score))\n"
   ]
  },
  {
   "cell_type": "code",
   "execution_count": 226,
   "id": "200607ca",
   "metadata": {},
   "outputs": [
    {
     "name": "stdout",
     "output_type": "stream",
     "text": [
      "0.7907949790794979\n",
      "[[10  3  0  0  0  0  0  0]\n",
      " [ 3 49  8  6  2  1  0  0]\n",
      " [ 0  7  8  6  0  1  0  0]\n",
      " [ 0  6  1 54  1  0  0  0]\n",
      " [ 0  1  0  0  0  0  0  0]\n",
      " [ 0  2  2  0  0  2  0  0]\n",
      " [ 0  0  0  0  0  0 29  0]\n",
      " [ 0  0  0  0  0  0  0 37]]\n",
      "              precision    recall  f1-score   support\n",
      "\n",
      "           0       0.77      0.77      0.77        13\n",
      "           1       0.72      0.71      0.72        69\n",
      "           2       0.42      0.36      0.39        22\n",
      "           3       0.82      0.87      0.84        62\n",
      "           4       0.00      0.00      0.00         1\n",
      "           5       0.50      0.33      0.40         6\n",
      "           6       1.00      1.00      1.00        29\n",
      "           7       1.00      1.00      1.00        37\n",
      "\n",
      "    accuracy                           0.79       239\n",
      "   macro avg       0.65      0.63      0.64       239\n",
      "weighted avg       0.79      0.79      0.79       239\n",
      "\n",
      "Training accuracy:: 1.0\n",
      "Test accuracy:: 0.7907949790794979\n"
     ]
    }
   ],
   "source": [
    "\n",
    "dtc.fit(x_train,y_train)\n",
    "predicted_dtc=dtc.predict(x_test)\n",
    "print(accuracy_score(y_test,predicted_dtc))\n",
    "print(confusion_matrix(y_test,predicted_dtc))\n",
    "print(classification_report(y_test,predicted_dtc))\n",
    "print(\"Training accuracy::\",dtc.score(x_train,y_train))\n",
    "print(\"Test accuracy::\",dtc.score(x_test,y_test))\n"
   ]
  },
  {
   "cell_type": "code",
   "execution_count": 228,
   "id": "2be80340",
   "metadata": {},
   "outputs": [
    {
     "data": {
      "text/html": [
       "<div>\n",
       "<style scoped>\n",
       "    .dataframe tbody tr th:only-of-type {\n",
       "        vertical-align: middle;\n",
       "    }\n",
       "\n",
       "    .dataframe tbody tr th {\n",
       "        vertical-align: top;\n",
       "    }\n",
       "\n",
       "    .dataframe thead th {\n",
       "        text-align: right;\n",
       "    }\n",
       "</style>\n",
       "<table border=\"1\" class=\"dataframe\">\n",
       "  <thead>\n",
       "    <tr style=\"text-align: right;\">\n",
       "      <th></th>\n",
       "      <th>Prediction of Test data</th>\n",
       "    </tr>\n",
       "  </thead>\n",
       "  <tbody>\n",
       "    <tr>\n",
       "      <th>0</th>\n",
       "      <td>-0.221749</td>\n",
       "    </tr>\n",
       "    <tr>\n",
       "      <th>1</th>\n",
       "      <td>-0.176873</td>\n",
       "    </tr>\n",
       "    <tr>\n",
       "      <th>2</th>\n",
       "      <td>-1.247327</td>\n",
       "    </tr>\n",
       "    <tr>\n",
       "      <th>3</th>\n",
       "      <td>0.888580</td>\n",
       "    </tr>\n",
       "    <tr>\n",
       "      <th>4</th>\n",
       "      <td>-0.559915</td>\n",
       "    </tr>\n",
       "    <tr>\n",
       "      <th>...</th>\n",
       "      <td>...</td>\n",
       "    </tr>\n",
       "    <tr>\n",
       "      <th>234</th>\n",
       "      <td>-0.574341</td>\n",
       "    </tr>\n",
       "    <tr>\n",
       "      <th>235</th>\n",
       "      <td>0.183737</td>\n",
       "    </tr>\n",
       "    <tr>\n",
       "      <th>236</th>\n",
       "      <td>0.093610</td>\n",
       "    </tr>\n",
       "    <tr>\n",
       "      <th>237</th>\n",
       "      <td>0.513707</td>\n",
       "    </tr>\n",
       "    <tr>\n",
       "      <th>238</th>\n",
       "      <td>-0.313463</td>\n",
       "    </tr>\n",
       "  </tbody>\n",
       "</table>\n",
       "<p>239 rows × 1 columns</p>\n",
       "</div>"
      ],
      "text/plain": [
       "     Prediction of Test data\n",
       "0                  -0.221749\n",
       "1                  -0.176873\n",
       "2                  -1.247327\n",
       "3                   0.888580\n",
       "4                  -0.559915\n",
       "..                       ...\n",
       "234                -0.574341\n",
       "235                 0.183737\n",
       "236                 0.093610\n",
       "237                 0.513707\n",
       "238                -0.313463\n",
       "\n",
       "[239 rows x 1 columns]"
      ]
     },
     "execution_count": 228,
     "metadata": {},
     "output_type": "execute_result"
    }
   ],
   "source": [
    "# To create Dataframe of predicted value with particular respective index\n",
    "result2 = pd.DataFrame()  #target data\n",
    "result2['Prediction of Test data']=X_test_prediction\n",
    "result2"
   ]
  },
  {
   "cell_type": "code",
   "execution_count": 230,
   "id": "c9d41f07",
   "metadata": {},
   "outputs": [
    {
     "data": {
      "text/html": [
       "<div>\n",
       "<style scoped>\n",
       "    .dataframe tbody tr th:only-of-type {\n",
       "        vertical-align: middle;\n",
       "    }\n",
       "\n",
       "    .dataframe tbody tr th {\n",
       "        vertical-align: top;\n",
       "    }\n",
       "\n",
       "    .dataframe thead th {\n",
       "        text-align: right;\n",
       "    }\n",
       "</style>\n",
       "<table border=\"1\" class=\"dataframe\">\n",
       "  <thead>\n",
       "    <tr style=\"text-align: right;\">\n",
       "      <th></th>\n",
       "      <th>Prediction of Train data</th>\n",
       "    </tr>\n",
       "  </thead>\n",
       "  <tbody>\n",
       "    <tr>\n",
       "      <th>0</th>\n",
       "      <td>-0.509270</td>\n",
       "    </tr>\n",
       "    <tr>\n",
       "      <th>1</th>\n",
       "      <td>-1.442576</td>\n",
       "    </tr>\n",
       "    <tr>\n",
       "      <th>2</th>\n",
       "      <td>-1.243366</td>\n",
       "    </tr>\n",
       "    <tr>\n",
       "      <th>3</th>\n",
       "      <td>-1.295735</td>\n",
       "    </tr>\n",
       "    <tr>\n",
       "      <th>4</th>\n",
       "      <td>-0.507601</td>\n",
       "    </tr>\n",
       "    <tr>\n",
       "      <th>...</th>\n",
       "      <td>...</td>\n",
       "    </tr>\n",
       "    <tr>\n",
       "      <th>638</th>\n",
       "      <td>1.173759</td>\n",
       "    </tr>\n",
       "    <tr>\n",
       "      <th>639</th>\n",
       "      <td>-1.314137</td>\n",
       "    </tr>\n",
       "    <tr>\n",
       "      <th>640</th>\n",
       "      <td>1.249099</td>\n",
       "    </tr>\n",
       "    <tr>\n",
       "      <th>641</th>\n",
       "      <td>-0.519233</td>\n",
       "    </tr>\n",
       "    <tr>\n",
       "      <th>642</th>\n",
       "      <td>-0.327025</td>\n",
       "    </tr>\n",
       "  </tbody>\n",
       "</table>\n",
       "<p>643 rows × 1 columns</p>\n",
       "</div>"
      ],
      "text/plain": [
       "     Prediction of Train data\n",
       "0                   -0.509270\n",
       "1                   -1.442576\n",
       "2                   -1.243366\n",
       "3                   -1.295735\n",
       "4                   -0.507601\n",
       "..                        ...\n",
       "638                  1.173759\n",
       "639                 -1.314137\n",
       "640                  1.249099\n",
       "641                 -0.519233\n",
       "642                 -0.327025\n",
       "\n",
       "[643 rows x 1 columns]"
      ]
     },
     "execution_count": 230,
     "metadata": {},
     "output_type": "execute_result"
    }
   ],
   "source": [
    "# To create Dataframe of predicted value with particular respective index\n",
    "result1 = pd.DataFrame()  #target data\n",
    "result1['Prediction of Train data']=X_train_prediction\n",
    "result1"
   ]
  },
  {
   "cell_type": "code",
   "execution_count": 231,
   "id": "bef4b7cb",
   "metadata": {},
   "outputs": [],
   "source": [
    "data_row= pd.concat([result1, result2],ignore_index=True)"
   ]
  },
  {
   "cell_type": "code",
   "execution_count": 232,
   "id": "2754053f",
   "metadata": {},
   "outputs": [
    {
     "data": {
      "text/html": [
       "<div>\n",
       "<style scoped>\n",
       "    .dataframe tbody tr th:only-of-type {\n",
       "        vertical-align: middle;\n",
       "    }\n",
       "\n",
       "    .dataframe tbody tr th {\n",
       "        vertical-align: top;\n",
       "    }\n",
       "\n",
       "    .dataframe thead th {\n",
       "        text-align: right;\n",
       "    }\n",
       "</style>\n",
       "<table border=\"1\" class=\"dataframe\">\n",
       "  <thead>\n",
       "    <tr style=\"text-align: right;\">\n",
       "      <th></th>\n",
       "      <th>Prediction of Train data</th>\n",
       "      <th>Prediction of Test data</th>\n",
       "    </tr>\n",
       "  </thead>\n",
       "  <tbody>\n",
       "    <tr>\n",
       "      <th>0</th>\n",
       "      <td>-0.509270</td>\n",
       "      <td>NaN</td>\n",
       "    </tr>\n",
       "    <tr>\n",
       "      <th>1</th>\n",
       "      <td>-1.442576</td>\n",
       "      <td>NaN</td>\n",
       "    </tr>\n",
       "    <tr>\n",
       "      <th>2</th>\n",
       "      <td>-1.243366</td>\n",
       "      <td>NaN</td>\n",
       "    </tr>\n",
       "    <tr>\n",
       "      <th>3</th>\n",
       "      <td>-1.295735</td>\n",
       "      <td>NaN</td>\n",
       "    </tr>\n",
       "    <tr>\n",
       "      <th>4</th>\n",
       "      <td>-0.507601</td>\n",
       "      <td>NaN</td>\n",
       "    </tr>\n",
       "    <tr>\n",
       "      <th>...</th>\n",
       "      <td>...</td>\n",
       "      <td>...</td>\n",
       "    </tr>\n",
       "    <tr>\n",
       "      <th>877</th>\n",
       "      <td>NaN</td>\n",
       "      <td>-0.574341</td>\n",
       "    </tr>\n",
       "    <tr>\n",
       "      <th>878</th>\n",
       "      <td>NaN</td>\n",
       "      <td>0.183737</td>\n",
       "    </tr>\n",
       "    <tr>\n",
       "      <th>879</th>\n",
       "      <td>NaN</td>\n",
       "      <td>0.093610</td>\n",
       "    </tr>\n",
       "    <tr>\n",
       "      <th>880</th>\n",
       "      <td>NaN</td>\n",
       "      <td>0.513707</td>\n",
       "    </tr>\n",
       "    <tr>\n",
       "      <th>881</th>\n",
       "      <td>NaN</td>\n",
       "      <td>-0.313463</td>\n",
       "    </tr>\n",
       "  </tbody>\n",
       "</table>\n",
       "<p>882 rows × 2 columns</p>\n",
       "</div>"
      ],
      "text/plain": [
       "     Prediction of Train data  Prediction of Test data\n",
       "0                   -0.509270                      NaN\n",
       "1                   -1.442576                      NaN\n",
       "2                   -1.243366                      NaN\n",
       "3                   -1.295735                      NaN\n",
       "4                   -0.507601                      NaN\n",
       "..                        ...                      ...\n",
       "877                       NaN                -0.574341\n",
       "878                       NaN                 0.183737\n",
       "879                       NaN                 0.093610\n",
       "880                       NaN                 0.513707\n",
       "881                       NaN                -0.313463\n",
       "\n",
       "[882 rows x 2 columns]"
      ]
     },
     "execution_count": 232,
     "metadata": {},
     "output_type": "execute_result"
    }
   ],
   "source": [
    "data_row"
   ]
  },
  {
   "cell_type": "code",
   "execution_count": 233,
   "id": "dfd7697c",
   "metadata": {},
   "outputs": [],
   "source": [
    "#save the dataframe into csv file\n",
    "data_row.to_csv('Global Power Plant.csv')"
   ]
  },
  {
   "cell_type": "code",
   "execution_count": null,
   "id": "e09acee5",
   "metadata": {},
   "outputs": [],
   "source": []
  },
  {
   "cell_type": "code",
   "execution_count": null,
   "id": "8ed1c460",
   "metadata": {},
   "outputs": [],
   "source": []
  },
  {
   "cell_type": "code",
   "execution_count": null,
   "id": "c5872dac",
   "metadata": {},
   "outputs": [],
   "source": []
  },
  {
   "cell_type": "code",
   "execution_count": null,
   "id": "3094f8e1",
   "metadata": {},
   "outputs": [],
   "source": []
  },
  {
   "cell_type": "code",
   "execution_count": null,
   "id": "93f79672",
   "metadata": {},
   "outputs": [],
   "source": []
  },
  {
   "cell_type": "code",
   "execution_count": null,
   "id": "780beae9",
   "metadata": {},
   "outputs": [],
   "source": []
  },
  {
   "cell_type": "code",
   "execution_count": null,
   "id": "6c3982e4",
   "metadata": {},
   "outputs": [],
   "source": []
  },
  {
   "cell_type": "code",
   "execution_count": null,
   "id": "7e1ab2d0",
   "metadata": {},
   "outputs": [],
   "source": []
  },
  {
   "cell_type": "code",
   "execution_count": null,
   "id": "f29a66b2",
   "metadata": {},
   "outputs": [],
   "source": []
  },
  {
   "cell_type": "code",
   "execution_count": null,
   "id": "55f7f7a7",
   "metadata": {},
   "outputs": [],
   "source": []
  },
  {
   "cell_type": "code",
   "execution_count": null,
   "id": "c5845f8c",
   "metadata": {},
   "outputs": [],
   "source": []
  },
  {
   "cell_type": "code",
   "execution_count": null,
   "id": "924ac6d7",
   "metadata": {},
   "outputs": [],
   "source": []
  },
  {
   "cell_type": "code",
   "execution_count": null,
   "id": "0e04f392",
   "metadata": {},
   "outputs": [],
   "source": []
  },
  {
   "cell_type": "code",
   "execution_count": null,
   "id": "465a75d9",
   "metadata": {},
   "outputs": [],
   "source": []
  },
  {
   "cell_type": "code",
   "execution_count": null,
   "id": "dca856f8",
   "metadata": {},
   "outputs": [],
   "source": []
  },
  {
   "cell_type": "code",
   "execution_count": null,
   "id": "8e9ff379",
   "metadata": {},
   "outputs": [],
   "source": []
  },
  {
   "cell_type": "code",
   "execution_count": null,
   "id": "7a2b4bb8",
   "metadata": {},
   "outputs": [],
   "source": []
  },
  {
   "cell_type": "code",
   "execution_count": null,
   "id": "f35c0674",
   "metadata": {},
   "outputs": [],
   "source": []
  },
  {
   "cell_type": "code",
   "execution_count": null,
   "id": "7b7fd05c",
   "metadata": {},
   "outputs": [],
   "source": []
  },
  {
   "cell_type": "code",
   "execution_count": null,
   "id": "31595609",
   "metadata": {},
   "outputs": [],
   "source": []
  },
  {
   "cell_type": "code",
   "execution_count": null,
   "id": "29a4287e",
   "metadata": {},
   "outputs": [],
   "source": []
  },
  {
   "cell_type": "code",
   "execution_count": null,
   "id": "f033d597",
   "metadata": {},
   "outputs": [],
   "source": []
  },
  {
   "cell_type": "code",
   "execution_count": null,
   "id": "42189c7c",
   "metadata": {},
   "outputs": [],
   "source": []
  },
  {
   "cell_type": "code",
   "execution_count": null,
   "id": "0af0d2c6",
   "metadata": {},
   "outputs": [],
   "source": []
  },
  {
   "cell_type": "code",
   "execution_count": null,
   "id": "cf1f49e8",
   "metadata": {},
   "outputs": [],
   "source": []
  },
  {
   "cell_type": "code",
   "execution_count": null,
   "id": "ffb1748d",
   "metadata": {},
   "outputs": [],
   "source": []
  },
  {
   "cell_type": "code",
   "execution_count": null,
   "id": "81948e99",
   "metadata": {},
   "outputs": [],
   "source": []
  },
  {
   "cell_type": "code",
   "execution_count": null,
   "id": "01d2e72f",
   "metadata": {},
   "outputs": [],
   "source": []
  },
  {
   "cell_type": "code",
   "execution_count": null,
   "id": "f628a9ea",
   "metadata": {},
   "outputs": [],
   "source": []
  },
  {
   "cell_type": "code",
   "execution_count": null,
   "id": "4917fcd8",
   "metadata": {},
   "outputs": [],
   "source": []
  },
  {
   "cell_type": "code",
   "execution_count": null,
   "id": "bfca4aab",
   "metadata": {},
   "outputs": [],
   "source": []
  },
  {
   "cell_type": "code",
   "execution_count": null,
   "id": "f3cde56e",
   "metadata": {},
   "outputs": [],
   "source": []
  },
  {
   "cell_type": "code",
   "execution_count": null,
   "id": "483003eb",
   "metadata": {},
   "outputs": [],
   "source": []
  },
  {
   "cell_type": "code",
   "execution_count": null,
   "id": "2ce6a030",
   "metadata": {},
   "outputs": [],
   "source": []
  },
  {
   "cell_type": "code",
   "execution_count": null,
   "id": "73fdd398",
   "metadata": {},
   "outputs": [],
   "source": []
  },
  {
   "cell_type": "code",
   "execution_count": null,
   "id": "48afdb5e",
   "metadata": {},
   "outputs": [],
   "source": []
  },
  {
   "cell_type": "code",
   "execution_count": null,
   "id": "04fd941d",
   "metadata": {},
   "outputs": [],
   "source": []
  },
  {
   "cell_type": "code",
   "execution_count": null,
   "id": "5ab1b996",
   "metadata": {},
   "outputs": [],
   "source": []
  }
 ],
 "metadata": {
  "kernelspec": {
   "display_name": "Python 3 (ipykernel)",
   "language": "python",
   "name": "python3"
  },
  "language_info": {
   "codemirror_mode": {
    "name": "ipython",
    "version": 3
   },
   "file_extension": ".py",
   "mimetype": "text/x-python",
   "name": "python",
   "nbconvert_exporter": "python",
   "pygments_lexer": "ipython3",
   "version": "3.9.7"
  }
 },
 "nbformat": 4,
 "nbformat_minor": 5
}
